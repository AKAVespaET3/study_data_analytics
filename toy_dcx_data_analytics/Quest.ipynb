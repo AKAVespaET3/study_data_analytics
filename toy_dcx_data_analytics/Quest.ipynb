{
 "cells": [
  {
   "cell_type": "markdown",
   "id": "5d026c6e-3215-425b-9279-b93d2e9d117b",
   "metadata": {},
   "source": [
    "## 강남브랜드안과의원\n",
    "- https://www.modoodoc.com/hospital/72283/%EA%B0%95%EB%82%A8%EB%B8%8C%EB%9E%9C%EB%93%9C%EC%95%88%EA%B3%BC%EC%9D%98%EC%9B%90-%EC%84%9C%EC%9A%B8-%EB%B0%98%ED%8F%AC%EB%8F%99"
   ]
  },
  {
   "cell_type": "code",
   "execution_count": 1,
   "id": "f4d903f8-f97e-4196-a15d-bf658ef723dd",
   "metadata": {
    "tags": []
   },
   "outputs": [],
   "source": [
    "from selenium import webdriver\n",
    "import time\n",
    "import pandas as pd \n",
    "import pymongo as mg "
   ]
  },
  {
   "cell_type": "code",
   "execution_count": 2,
   "id": "ab09619d-6307-4125-9ab8-a45c2193fd4c",
   "metadata": {
    "tags": []
   },
   "outputs": [],
   "source": [
    "browser = webdriver.Chrome(executable_path='../../../../chromedriver.exe')\n",
    "# url in address\n",
    "browser.get('https://www.modoodoc.com/hospital/72283/%EA%B0%95%EB%82%A8%EB%B8%8C%EB%9E%9C%EB%93%9C%EC%95%88%EA%B3%BC%EC%9D%98%EC%9B%90-%EC%84%9C%EC%9A%B8-%EB%B0%98%ED%8F%AC%EB%8F%99')\n",
    "review = browser.find_element_by_css_selector('nav > div:nth-child(5)')\n",
    "review.click()\n",
    "kakao_page = browser.find_element_by_css_selector('div:nth-child(9) > section > div.styles_body__U5_ez.styles_blind__dAFnh > div > div.styles_notAuthorizationed__gOjGw > button > span')\n",
    "kakao_page.click()"
   ]
  },
  {
   "cell_type": "markdown",
   "id": "4f5463f2-d09d-4ac7-9044-128cad1b0ed0",
   "metadata": {},
   "source": [
    "### Login 화면"
   ]
  },
  {
   "cell_type": "code",
   "execution_count": 3,
   "id": "d821d46f-4247-4be7-819f-7c2ca2035714",
   "metadata": {
    "tags": []
   },
   "outputs": [],
   "source": [
    "element_path = '#loginId--1'\n",
    "login_field = browser.find_element_by_css_selector(element_path)\n",
    "login_field.send_keys('killer_mgk@naver.com')"
   ]
  },
  {
   "cell_type": "code",
   "execution_count": 4,
   "id": "75647583-7807-4d47-951b-56c28512dc98",
   "metadata": {
    "tags": []
   },
   "outputs": [],
   "source": [
    "element_path = '#password--2'\n",
    "password_field = browser.find_element_by_css_selector(element_path)\n",
    "password_field.send_keys('!Audrhs7758')"
   ]
  },
  {
   "cell_type": "code",
   "execution_count": 5,
   "id": "a6cc0e7b-1cbf-4237-91db-c6b43b9feb5e",
   "metadata": {
    "tags": []
   },
   "outputs": [],
   "source": [
    "element_path = 'button.btn_g.highlight.submit'\n",
    "sign_button = browser.find_element_by_css_selector(element_path)\n",
    "sign_button.click()"
   ]
  },
  {
   "cell_type": "code",
   "execution_count": 6,
   "id": "91edccc1-7b66-47b8-a626-d9e230f26daf",
   "metadata": {
    "tags": []
   },
   "outputs": [
    {
     "ename": "NoSuchElementException",
     "evalue": "Message: no such element: Unable to locate element: {\"method\":\"css selector\",\"selector\":\"#mArticle > div > div.wrap_btn > form > button\"}\n  (Session info: chrome=116.0.5845.180)\n",
     "output_type": "error",
     "traceback": [
      "\u001b[1;31m---------------------------------------------------------------------------\u001b[0m",
      "\u001b[1;31mNoSuchElementException\u001b[0m                    Traceback (most recent call last)",
      "Cell \u001b[1;32mIn[6], line 2\u001b[0m\n\u001b[0;32m      1\u001b[0m element_path \u001b[38;5;241m=\u001b[39m \u001b[38;5;124m'\u001b[39m\u001b[38;5;124m#mArticle > div > div.wrap_btn > form > button\u001b[39m\u001b[38;5;124m'\u001b[39m\n\u001b[1;32m----> 2\u001b[0m sign1_button \u001b[38;5;241m=\u001b[39m browser\u001b[38;5;241m.\u001b[39mfind_element_by_css_selector(element_path)\n\u001b[0;32m      3\u001b[0m sign1_button\u001b[38;5;241m.\u001b[39mclick()\n",
      "File \u001b[1;32m~\\anaconda3\\Lib\\site-packages\\selenium\\webdriver\\remote\\webdriver.py:598\u001b[0m, in \u001b[0;36mWebDriver.find_element_by_css_selector\u001b[1;34m(self, css_selector)\u001b[0m\n\u001b[0;32m    582\u001b[0m \u001b[38;5;28;01mdef\u001b[39;00m \u001b[38;5;21mfind_element_by_css_selector\u001b[39m(\u001b[38;5;28mself\u001b[39m, css_selector):\n\u001b[0;32m    583\u001b[0m \u001b[38;5;250m    \u001b[39m\u001b[38;5;124;03m\"\"\"\u001b[39;00m\n\u001b[0;32m    584\u001b[0m \u001b[38;5;124;03m    Finds an element by css selector.\u001b[39;00m\n\u001b[0;32m    585\u001b[0m \n\u001b[1;32m   (...)\u001b[0m\n\u001b[0;32m    596\u001b[0m \u001b[38;5;124;03m        element = driver.find_element_by_css_selector('#foo')\u001b[39;00m\n\u001b[0;32m    597\u001b[0m \u001b[38;5;124;03m    \"\"\"\u001b[39;00m\n\u001b[1;32m--> 598\u001b[0m     \u001b[38;5;28;01mreturn\u001b[39;00m \u001b[38;5;28mself\u001b[39m\u001b[38;5;241m.\u001b[39mfind_element(by\u001b[38;5;241m=\u001b[39mBy\u001b[38;5;241m.\u001b[39mCSS_SELECTOR, value\u001b[38;5;241m=\u001b[39mcss_selector)\n",
      "File \u001b[1;32m~\\anaconda3\\Lib\\site-packages\\selenium\\webdriver\\remote\\webdriver.py:976\u001b[0m, in \u001b[0;36mWebDriver.find_element\u001b[1;34m(self, by, value)\u001b[0m\n\u001b[0;32m    974\u001b[0m         by \u001b[38;5;241m=\u001b[39m By\u001b[38;5;241m.\u001b[39mCSS_SELECTOR\n\u001b[0;32m    975\u001b[0m         value \u001b[38;5;241m=\u001b[39m \u001b[38;5;124m'\u001b[39m\u001b[38;5;124m[name=\u001b[39m\u001b[38;5;124m\"\u001b[39m\u001b[38;5;132;01m%s\u001b[39;00m\u001b[38;5;124m\"\u001b[39m\u001b[38;5;124m]\u001b[39m\u001b[38;5;124m'\u001b[39m \u001b[38;5;241m%\u001b[39m value\n\u001b[1;32m--> 976\u001b[0m \u001b[38;5;28;01mreturn\u001b[39;00m \u001b[38;5;28mself\u001b[39m\u001b[38;5;241m.\u001b[39mexecute(Command\u001b[38;5;241m.\u001b[39mFIND_ELEMENT, {\n\u001b[0;32m    977\u001b[0m     \u001b[38;5;124m'\u001b[39m\u001b[38;5;124musing\u001b[39m\u001b[38;5;124m'\u001b[39m: by,\n\u001b[0;32m    978\u001b[0m     \u001b[38;5;124m'\u001b[39m\u001b[38;5;124mvalue\u001b[39m\u001b[38;5;124m'\u001b[39m: value})[\u001b[38;5;124m'\u001b[39m\u001b[38;5;124mvalue\u001b[39m\u001b[38;5;124m'\u001b[39m]\n",
      "File \u001b[1;32m~\\anaconda3\\Lib\\site-packages\\selenium\\webdriver\\remote\\webdriver.py:321\u001b[0m, in \u001b[0;36mWebDriver.execute\u001b[1;34m(self, driver_command, params)\u001b[0m\n\u001b[0;32m    319\u001b[0m response \u001b[38;5;241m=\u001b[39m \u001b[38;5;28mself\u001b[39m\u001b[38;5;241m.\u001b[39mcommand_executor\u001b[38;5;241m.\u001b[39mexecute(driver_command, params)\n\u001b[0;32m    320\u001b[0m \u001b[38;5;28;01mif\u001b[39;00m response:\n\u001b[1;32m--> 321\u001b[0m     \u001b[38;5;28mself\u001b[39m\u001b[38;5;241m.\u001b[39merror_handler\u001b[38;5;241m.\u001b[39mcheck_response(response)\n\u001b[0;32m    322\u001b[0m     response[\u001b[38;5;124m'\u001b[39m\u001b[38;5;124mvalue\u001b[39m\u001b[38;5;124m'\u001b[39m] \u001b[38;5;241m=\u001b[39m \u001b[38;5;28mself\u001b[39m\u001b[38;5;241m.\u001b[39m_unwrap_value(\n\u001b[0;32m    323\u001b[0m         response\u001b[38;5;241m.\u001b[39mget(\u001b[38;5;124m'\u001b[39m\u001b[38;5;124mvalue\u001b[39m\u001b[38;5;124m'\u001b[39m, \u001b[38;5;28;01mNone\u001b[39;00m))\n\u001b[0;32m    324\u001b[0m     \u001b[38;5;28;01mreturn\u001b[39;00m response\n",
      "File \u001b[1;32m~\\anaconda3\\Lib\\site-packages\\selenium\\webdriver\\remote\\errorhandler.py:242\u001b[0m, in \u001b[0;36mErrorHandler.check_response\u001b[1;34m(self, response)\u001b[0m\n\u001b[0;32m    240\u001b[0m         alert_text \u001b[38;5;241m=\u001b[39m value[\u001b[38;5;124m'\u001b[39m\u001b[38;5;124malert\u001b[39m\u001b[38;5;124m'\u001b[39m]\u001b[38;5;241m.\u001b[39mget(\u001b[38;5;124m'\u001b[39m\u001b[38;5;124mtext\u001b[39m\u001b[38;5;124m'\u001b[39m)\n\u001b[0;32m    241\u001b[0m     \u001b[38;5;28;01mraise\u001b[39;00m exception_class(message, screen, stacktrace, alert_text)\n\u001b[1;32m--> 242\u001b[0m \u001b[38;5;28;01mraise\u001b[39;00m exception_class(message, screen, stacktrace)\n",
      "\u001b[1;31mNoSuchElementException\u001b[0m: Message: no such element: Unable to locate element: {\"method\":\"css selector\",\"selector\":\"#mArticle > div > div.wrap_btn > form > button\"}\n  (Session info: chrome=116.0.5845.180)\n"
     ]
    }
   ],
   "source": [
    "element_path = '#mArticle > div > div.wrap_btn > form > button'\n",
    "sign1_button = browser.find_element_by_css_selector(element_path)\n",
    "sign1_button.click()"
   ]
  },
  {
   "cell_type": "code",
   "execution_count": 10,
   "id": "150086e4-7bfe-419c-ac7b-91552e347ea3",
   "metadata": {
    "tags": []
   },
   "outputs": [],
   "source": [
    "review = browser.find_element_by_css_selector('nav > div:nth-child(5)')\n",
    "review.click()"
   ]
  },
  {
   "cell_type": "markdown",
   "id": "21fd91c8-ed20-4ad6-b0f5-06c5677e93d3",
   "metadata": {},
   "source": [
    "### 리뷰 보기"
   ]
  },
  {
   "cell_type": "code",
   "execution_count": 12,
   "id": "e560899a-0c86-41cd-9037-5110360138d3",
   "metadata": {
    "tags": []
   },
   "outputs": [],
   "source": [
    "element_path = 'div.styles_moreReviewBox__Y7_AL > button > span'\n",
    "all_review_button = browser.find_element_by_css_selector(element_path)\n",
    "all_review_button.click()\n"
   ]
  },
  {
   "cell_type": "code",
   "execution_count": 13,
   "id": "6649d60c-4a05-4b87-87b1-1495083d917d",
   "metadata": {
    "tags": []
   },
   "outputs": [],
   "source": [
    "element_path = '#__next > div > div > div.styles_seeMoreBtnContainer__r4x1_ > button'\n",
    "more_review_button = browser.find_element_by_css_selector(element_path)\n",
    "more_review_button.click()\n",
    "# 리뷰 더보기\n",
    "while True :\n",
    "    try :\n",
    "        more_review_button.click()\n",
    "    except :\n",
    "        break"
   ]
  },
  {
   "cell_type": "markdown",
   "id": "753466b2-8f9f-468c-8b11-7c0d7c110021",
   "metadata": {},
   "source": [
    "### 리뷰 내용 가져오기\n",
    "\n",
    "- 리뷰 토탈 tag : #__next > div > div > div> section\n",
    "- 진료 tag : section > div.styles_body__Hxiji > div > h1\n",
    "- 별점 tag : section > div.styles_body__Hxiji > div > div > div.styles_container__Tn4i_ > div.styles_score__aUlv9\n",
    "- 의사 tag : section > div.styles_body__Hxiji > div > p\n",
    "- 내용 tag : section > div.styles_body__U5_ez > div > div > pre\n",
    "\n"
   ]
  },
  {
   "cell_type": "code",
   "execution_count": 43,
   "id": "18c88883-1bed-401b-a07d-f90c8f9a78d5",
   "metadata": {
    "tags": []
   },
   "outputs": [
    {
     "data": {
      "text/plain": [
       "10"
      ]
     },
     "execution_count": 43,
     "metadata": {},
     "output_type": "execute_result"
    }
   ],
   "source": [
    "# 서비스 앱에 대한 리스트\n",
    "element_path = '#__next > div > div > div> section'\n",
    "review_list = browser.find_elements_by_css_selector(element_path)\n",
    "len(review_list)"
   ]
  },
  {
   "cell_type": "code",
   "execution_count": 46,
   "id": "78097a60-efa0-4a09-b69d-a4921517327b",
   "metadata": {
    "tags": []
   },
   "outputs": [
    {
     "data": {
      "text/plain": [
       "[<selenium.webdriver.remote.webelement.WebElement (session=\"e4247aefd0b1c070054d24a363f1a3a7\", element=\"908BB85CDE47635F8C4967E2779277E4_element_1106\")>]"
      ]
     },
     "execution_count": 46,
     "metadata": {},
     "output_type": "execute_result"
    }
   ],
   "source": [
    "review_list[3].find_elements_by_css_selector('.styles_body__Hxiji > div > h1')"
   ]
  },
  {
   "cell_type": "code",
   "execution_count": 39,
   "id": "9043f4d8-1e65-4821-a5c3-bf378f0d0873",
   "metadata": {
    "tags": []
   },
   "outputs": [],
   "source": [
    "# juryo = browser.find_element_by_css_selector('section > div.styles_body__Hxiji > div > h1').text\n",
    "# stars = browser.find_element_by_css_selector('section > div.styles_body__Hxiji > div > div > div.styles_container__Tn4i_ > div.styles_score__aUlv9').text\n",
    "# doctors = browser.find_element_by_css_selector('section > div.styles_body__Hxiji > div > p').text\n",
    "# review = browser.find_element_by_css_selector('section > div.styles_body__U5_ez > div > div > pre').text\n",
    "# review_bundle = [juryo, stars, doctors, review]"
   ]
  },
  {
   "cell_type": "code",
   "execution_count": 45,
   "id": "b812580c-1b4b-4deb-a553-55c16758772f",
   "metadata": {
    "tags": []
   },
   "outputs": [
    {
     "data": {
      "text/plain": [
       "[[['받은 진료 :  라식',\n",
       "   '10.0',\n",
       "   '의사 : 서정기',\n",
       "   '우선 직원들이 바쁘신 와중에 친절하시고 업무가 세분화?가 잘 되어있어 빠르게 진행됩니다.  병원 인테리어도 깔끔하고 앉을 좌석이 충분하여 대기인원이 많아도 쇼파가 충분했어요. \\n...더보기']],\n",
       " [['받은 진료 :  라섹',\n",
       "   '10.0',\n",
       "   '의사 : 한승수',\n",
       "   '라섹 수술 받았는데 공장형이 아니라고 광고하눈거치곤 공장같았지만 결과는 괜찮은거 같아오 5일찬데 별로 안아프고 잘보이기 시작합니다. 수술후 관리에 대해서 설명이 조금 부족한거같아 ...더보기']],\n",
       " [['받은 진료 :  스마일라식',\n",
       "   '10.0',\n",
       "   '의사 : 한승수',\n",
       "   '광고가 아니라 제 경험을 공유하고자 리뷰를 쓰게\\n되었습니다 !!  \\n먼저 전화로 예약을 잡고 가게 되었구요 딱 들어갔을 때 많운 사람으로 긴 대기 시간을 예상했는데 검사 후 수...더보기']],\n",
       " [['받은 진료 :  IPL, 라섹',\n",
       "   '10.0',\n",
       "   '의사 : 서정기',\n",
       "   '금요일(9월1일) 9시 20분에 방문했습니다.\\n\\n간단한 문진표와 설문지 작성, 접수 -> 검사 -> 검사 결과 토대로 원장님 진료 -> 상담 -> 수술(각막강화, 보호렌즈 포함...더보기']],\n",
       " [['받은 진료 :  라섹',\n",
       "   '9.3',\n",
       "   '의사 : 서정기',\n",
       "   '스마일 라식 생각하고 갔는데 눈 상태때문에 라섹을 받게 됐습니다 😂 상담해주시는 직원분, 의사샘들 모두 설명 친절하시고 검사도 엄청 빠르게 진행됩니다, 저는 대기 시간이 그렇게 ...더보기']],\n",
       " [['받은 진료 :  라식',\n",
       "   '10.0',\n",
       "   '의사 : 이성훈',\n",
       "   '처음부터 끝가지 모두 친절하시고 빠르게 해주셔서 너무 편했습니다 너무 무서워서 걱정을 많이 했는데 손도 꼭 잡아주시고무섭지도 않고 아프지도 않아서 최고입니다 다음생에 태어나도 여기...더보기']],\n",
       " [['받은 진료 :  라섹',\n",
       "   '8.8',\n",
       "   '의사 : 한승수',\n",
       "   '대학교 제휴로 추천받게 된 병원인데, 여러군데 병원 상담 끝에 여기를 선택했습니다. 직원분의 친절도 좋았고, 원장님께서 자세히 설명해주셔서 좋았습니다. 시력검사도 혹시 몰라 두번 ...더보기']],\n",
       " [['받은 진료 :  라섹',\n",
       "   '10.0',\n",
       "   '의사 : 서정기',\n",
       "   '시간이 나서 약간 급하게 안과를 정하고 라섹을 받게 되었습니다. 성급했던 안과 선택을 우려했지만 결과는 만족입니다. 검사부터 수술까지 모두 친절하고 전문적으로 진행되었습니다. 결과...더보기']],\n",
       " [['받은 진료 :  라식',\n",
       "   '10.0',\n",
       "   '의사 : 서정기',\n",
       "   '강남브랜드안과에서 라식하고 왔습니다!\\n\\n그동안은 막연히 무서워서 수술을 멀리했었는데\\n이제는 렌즈를 끼면 눈이 건조하고 안경도 귀찮기도 해서 큰맘먹고 병원을 찾았습니다\\n\\n우...더보기']],\n",
       " [['받은 진료 :  스마일라식',\n",
       "   '10.0',\n",
       "   '의사 : 한승수',\n",
       "   '강남 브랜드 안과 너무너무 추천합니다!!\\n저는 스마일라식을 받았는데 당일 3시간? 정도만 눈 시림이 있었고 (아픈거랑은 다름!) 이후에 한 숨 자고 일어나니까 멀쩡했어요!! 당일...더보기']]]"
      ]
     },
     "execution_count": 45,
     "metadata": {},
     "output_type": "execute_result"
    }
   ],
   "source": [
    "# 리뷰 타이틀 리스트\n",
    "review_total = list()\n",
    "for reviews_list in review_list:\n",
    "    jinryo = reviews_list.find_element_by_css_selector('.styles_body__Hxiji > div > h1').text\n",
    "    stars = reviews_list.find_element_by_css_selector('.styles_container__Tn4i_ > div.styles_score__aUlv9').text\n",
    "    doctors = reviews_list.find_element_by_css_selector('.styles_body__Hxiji > div > p').text\n",
    "    review = reviews_list.find_element_by_css_selector('.styles_body__U5_ez > div > div > pre').text\n",
    "    review_bundle = [[jinryo, stars, doctors, review]]\n",
    "    review_total.append(review_bundle)\n",
    "\n",
    "review_total\n",
    "\n"
   ]
  },
  {
   "cell_type": "code",
   "execution_count": null,
   "id": "c3f2c9b8-5514-4128-9dce-8c23f4beac7a",
   "metadata": {},
   "outputs": [],
   "source": []
  }
 ],
 "metadata": {
  "kernelspec": {
   "display_name": "Python 3 (ipykernel)",
   "language": "python",
   "name": "python3"
  },
  "language_info": {
   "codemirror_mode": {
    "name": "ipython",
    "version": 3
   },
   "file_extension": ".py",
   "mimetype": "text/x-python",
   "name": "python",
   "nbconvert_exporter": "python",
   "pygments_lexer": "ipython3",
   "version": "3.11.3"
  }
 },
 "nbformat": 4,
 "nbformat_minor": 5
}
