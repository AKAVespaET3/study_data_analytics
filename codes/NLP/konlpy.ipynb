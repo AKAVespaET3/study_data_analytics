{
 "cells": [
  {
   "cell_type": "markdown",
   "id": "8e7b71c5-2d58-4eb7-92e8-610737a2d643",
   "metadata": {},
   "source": [
    "## KoNLPy: 파이썬 한국어 NLP"
   ]
  },
  {
   "cell_type": "code",
   "execution_count": 1,
   "id": "f12f8d93-6407-4cd6-9577-6dc9c28da58c",
   "metadata": {
    "collapsed": true,
    "jupyter": {
     "outputs_hidden": true
    },
    "tags": []
   },
   "outputs": [
    {
     "name": "stdout",
     "output_type": "stream",
     "text": [
      "Collecting konlpy\n",
      "  Downloading konlpy-0.6.0-py2.py3-none-any.whl (19.4 MB)\n",
      "                                              0.0/19.4 MB ? eta -:--:--\n",
      "                                              0.4/19.4 MB 7.6 MB/s eta 0:00:03\n",
      "     -                                        0.9/19.4 MB 9.2 MB/s eta 0:00:03\n",
      "     --                                       1.4/19.4 MB 9.9 MB/s eta 0:00:02\n",
      "     ---                                      1.8/19.4 MB 10.3 MB/s eta 0:00:02\n",
      "     ----                                     2.3/19.4 MB 9.7 MB/s eta 0:00:02\n",
      "     -----                                    2.7/19.4 MB 9.7 MB/s eta 0:00:02\n",
      "     ------                                   3.2/19.4 MB 9.9 MB/s eta 0:00:02\n",
      "     -------                                  3.8/19.4 MB 10.5 MB/s eta 0:00:02\n",
      "     --------                                 4.3/19.4 MB 10.5 MB/s eta 0:00:02\n",
      "     ---------                                4.8/19.4 MB 10.5 MB/s eta 0:00:02\n",
      "     ----------                               5.3/19.4 MB 10.6 MB/s eta 0:00:02\n",
      "     -----------                              5.8/19.4 MB 10.7 MB/s eta 0:00:02\n",
      "     -------------                            6.3/19.4 MB 10.7 MB/s eta 0:00:02\n",
      "     --------------                           6.9/19.4 MB 10.7 MB/s eta 0:00:02\n",
      "     ---------------                          7.4/19.4 MB 10.8 MB/s eta 0:00:02\n",
      "     ----------------                         7.9/19.4 MB 10.8 MB/s eta 0:00:02\n",
      "     -----------------                        8.5/19.4 MB 10.8 MB/s eta 0:00:02\n",
      "     ------------------                       8.9/19.4 MB 10.7 MB/s eta 0:00:01\n",
      "     -------------------                      9.4/19.4 MB 10.8 MB/s eta 0:00:01\n",
      "     -------------------                      9.7/19.4 MB 10.9 MB/s eta 0:00:01\n",
      "     --------------------                    10.1/19.4 MB 10.5 MB/s eta 0:00:01\n",
      "     ---------------------                   10.7/19.4 MB 10.6 MB/s eta 0:00:01\n",
      "     ----------------------                  11.2/19.4 MB 10.6 MB/s eta 0:00:01\n",
      "     -----------------------                 11.7/19.4 MB 10.7 MB/s eta 0:00:01\n",
      "     ------------------------                12.2/19.4 MB 10.7 MB/s eta 0:00:01\n",
      "     -------------------------               12.8/19.4 MB 10.7 MB/s eta 0:00:01\n",
      "     --------------------------              13.3/19.4 MB 10.9 MB/s eta 0:00:01\n",
      "     ---------------------------             13.8/19.4 MB 10.9 MB/s eta 0:00:01\n",
      "     ----------------------------            14.4/19.4 MB 10.9 MB/s eta 0:00:01\n",
      "     -----------------------------           14.9/19.4 MB 10.9 MB/s eta 0:00:01\n",
      "     ------------------------------          15.4/19.4 MB 10.9 MB/s eta 0:00:01\n",
      "     -------------------------------         15.9/19.4 MB 10.7 MB/s eta 0:00:01\n",
      "     --------------------------------        16.3/19.4 MB 10.6 MB/s eta 0:00:01\n",
      "     ---------------------------------       16.8/19.4 MB 10.6 MB/s eta 0:00:01\n",
      "     ----------------------------------      17.3/19.4 MB 10.6 MB/s eta 0:00:01\n",
      "     -----------------------------------     17.8/19.4 MB 10.6 MB/s eta 0:00:01\n",
      "     ------------------------------------    18.0/19.4 MB 10.6 MB/s eta 0:00:01\n",
      "     -------------------------------------   18.5/19.4 MB 10.2 MB/s eta 0:00:01\n",
      "     -------------------------------------   18.9/19.4 MB 10.2 MB/s eta 0:00:01\n",
      "     --------------------------------------  19.4/19.4 MB 10.1 MB/s eta 0:00:01\n",
      "     --------------------------------------  19.4/19.4 MB 10.2 MB/s eta 0:00:01\n",
      "     ---------------------------------------- 19.4/19.4 MB 9.3 MB/s eta 0:00:00\n",
      "Collecting JPype1>=0.7.0 (from konlpy)\n",
      "  Downloading JPype1-1.4.1-cp311-cp311-win_amd64.whl (345 kB)\n",
      "                                              0.0/345.1 kB ? eta -:--:--\n",
      "     ------------------------------------  337.9/345.1 kB 10.6 MB/s eta 0:00:01\n",
      "     -------------------------------------- 345.1/345.1 kB 7.1 MB/s eta 0:00:00\n",
      "Requirement already satisfied: lxml>=4.1.0 in c:\\users\\01-10\\anaconda3\\lib\\site-packages (from konlpy) (4.9.2)\n",
      "Requirement already satisfied: numpy>=1.6 in c:\\users\\01-10\\anaconda3\\lib\\site-packages (from konlpy) (1.24.3)\n",
      "Requirement already satisfied: packaging in c:\\users\\01-10\\anaconda3\\lib\\site-packages (from JPype1>=0.7.0->konlpy) (23.0)\n",
      "Installing collected packages: JPype1, konlpy\n",
      "Successfully installed JPype1-1.4.1 konlpy-0.6.0\n",
      "Note: you may need to restart the kernel to use updated packages.\n"
     ]
    }
   ],
   "source": [
    "%pip install konlpy"
   ]
  },
  {
   "cell_type": "code",
   "execution_count": 2,
   "id": "176ac147-7ae1-4677-adf0-c88e23d4a04e",
   "metadata": {
    "tags": []
   },
   "outputs": [],
   "source": [
    "from konlpy.tag import Okt"
   ]
  },
  {
   "cell_type": "code",
   "execution_count": 3,
   "id": "adab7056-b0d6-45be-a3a3-1a7ce2950437",
   "metadata": {
    "tags": []
   },
   "outputs": [],
   "source": [
    "okt = Okt()"
   ]
  },
  {
   "cell_type": "code",
   "execution_count": 6,
   "id": "0d5f8df1-d31d-45be-ba7e-5a67fc33711f",
   "metadata": {
    "tags": []
   },
   "outputs": [],
   "source": [
    "sentenc_list = ['아버지가방에들어가신다'\n",
    ", '나는 밥을 먹는다.'\n",
    ", '하늘을 나는 자동차'\n",
    ", '아이폰 기다리다 지쳐 애플공홈에서 언락폭질러버렸다 6+ 128기가실버ㅋ']"
   ]
  },
  {
   "cell_type": "code",
   "execution_count": 11,
   "id": "3a558b14-483c-405f-81db-6c609fb4bc90",
   "metadata": {
    "tags": []
   },
   "outputs": [
    {
     "data": {
      "text/plain": [
       "['아버지', '가방', '에', '들어가신다']"
      ]
     },
     "execution_count": 11,
     "metadata": {},
     "output_type": "execute_result"
    }
   ],
   "source": [
    "morphs_list = okt.morphs(sentenc_list[0])\n",
    "morphs_list"
   ]
  },
  {
   "cell_type": "code",
   "execution_count": 12,
   "id": "afb03f0d-c80c-4a0a-b972-570894815ef5",
   "metadata": {
    "tags": []
   },
   "outputs": [
    {
     "data": {
      "text/plain": [
       "[('아버지', 'Noun'), ('가방', 'Noun'), ('에', 'Josa'), ('들어가신다', 'Verb')]"
      ]
     },
     "execution_count": 12,
     "metadata": {},
     "output_type": "execute_result"
    }
   ],
   "source": [
    "okt.pos(sentenc_list[0])"
   ]
  },
  {
   "cell_type": "code",
   "execution_count": 10,
   "id": "f43d81e6-c907-4c8c-bfad-25d0150a8434",
   "metadata": {
    "tags": []
   },
   "outputs": [
    {
     "data": {
      "text/plain": [
       "['아버지', '가방']"
      ]
     },
     "execution_count": 10,
     "metadata": {},
     "output_type": "execute_result"
    }
   ],
   "source": [
    "okt.nouns(sentenc_list[0])"
   ]
  },
  {
   "cell_type": "code",
   "execution_count": null,
   "id": "bf75e720-c93a-481b-b880-91f2c500876e",
   "metadata": {},
   "outputs": [],
   "source": []
  }
 ],
 "metadata": {
  "kernelspec": {
   "display_name": "Python 3 (ipykernel)",
   "language": "python",
   "name": "python3"
  },
  "language_info": {
   "codemirror_mode": {
    "name": "ipython",
    "version": 3
   },
   "file_extension": ".py",
   "mimetype": "text/x-python",
   "name": "python",
   "nbconvert_exporter": "python",
   "pygments_lexer": "ipython3",
   "version": "3.11.3"
  }
 },
 "nbformat": 4,
 "nbformat_minor": 5
}
