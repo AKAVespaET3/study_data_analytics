{
 "cells": [
  {
   "cell_type": "code",
   "execution_count": 10,
   "id": "8c67c0b6-1d90-47f2-a396-38b2c09b2b6d",
   "metadata": {
    "tags": []
   },
   "outputs": [],
   "source": [
    "sentences = [\n",
    "    \"오늘 날씨가 좋아서 나들이 가고 싶다.\",\n",
    "    \"이 영화는 정말 재미있었어요.\",\n",
    "    \"맛있는 음식을 먹으러 갈까요?\",\n",
    "    \"운동을 하면 건강에 좋아지는 것 같아요.\",\n",
    "    \"공부하기 싫어서 미루고 있어요.\",\n",
    "    \"여행 계획을 세우고 있는데 어디로 갈까요?\",\n",
    "    \"좋은 책을 읽으면 마음이 편안해져.\",\n",
    "    \"오늘은 친구들과 만나서 재미있게 놀았어요.\",\n",
    "    \"새로운 언어를 배우는 것은 어려워도 흥미로워요.\",\n",
    "    \"주말에 가족들과 함께 시간을 보내기로 했습니다.\"\n",
    "]"
   ]
  },
  {
   "cell_type": "code",
   "execution_count": 11,
   "id": "0b810d8d-3dce-4428-a13c-57b73dbfa551",
   "metadata": {
    "tags": []
   },
   "outputs": [],
   "source": [
    "from gensim.corpora import Dictionary\n",
    "from gensim.models import LdaModel # 주제어 확인"
   ]
  },
  {
   "cell_type": "markdown",
   "id": "f2c2d732-6f58-4345-a781-2d2a85a911ca",
   "metadata": {},
   "source": [
    "### 전처리(형태소 분석, 불용어 처리 등)"
   ]
  },
  {
   "cell_type": "code",
   "execution_count": 12,
   "id": "b104b3e9-e88e-4b72-8b87-338437a34679",
   "metadata": {
    "tags": []
   },
   "outputs": [
    {
     "data": {
      "text/plain": [
       "[['날씨', '나'],\n",
       " ['영화'],\n",
       " ['음식'],\n",
       " ['운동', '건강', '것'],\n",
       " ['공부'],\n",
       " ['여행', '계획', '어디'],\n",
       " ['책', '마음', '편안'],\n",
       " ['오늘', '친구'],\n",
       " ['언어', '것', '흥미'],\n",
       " ['주말', '가족', '시간']]"
      ]
     },
     "execution_count": 12,
     "metadata": {},
     "output_type": "execute_result"
    }
   ],
   "source": [
    "from mecab import MeCab\n",
    "mecab = MeCab()\n",
    "# 형태분석기 사용해 명사만 추출\n",
    "morphs_list = list()\n",
    "for sentence in sentences :\n",
    "    morphs = mecab.nouns(sentence)\n",
    "    morphs_list.append(morphs)\n",
    "morphs_list"
   ]
  },
  {
   "cell_type": "code",
   "execution_count": 13,
   "id": "ce9cceea-261d-4a2d-a3f3-9693228711cc",
   "metadata": {
    "tags": []
   },
   "outputs": [],
   "source": [
    "preprocessed_sentences = morphs_list"
   ]
  },
  {
   "cell_type": "code",
   "execution_count": 14,
   "id": "51927322-5ce0-4eca-a21d-3593f3692591",
   "metadata": {
    "tags": []
   },
   "outputs": [
    {
     "data": {
      "text/plain": [
       "<gensim.corpora.dictionary.Dictionary at 0x11c2fc49d50>"
      ]
     },
     "execution_count": 14,
     "metadata": {},
     "output_type": "execute_result"
    }
   ],
   "source": [
    "dictionary = Dictionary(preprocessed_sentences)\n",
    "dictionary"
   ]
  },
  {
   "cell_type": "markdown",
   "id": "dd7f86ec-bf8b-4216-b3c2-dc0ce4070939",
   "metadata": {},
   "source": [
    "### transform with dictionary"
   ]
  },
  {
   "cell_type": "code",
   "execution_count": 15,
   "id": "ad735593-1ee0-43c9-9dfd-dd2700155c0c",
   "metadata": {
    "tags": []
   },
   "outputs": [
    {
     "data": {
      "text/plain": [
       "[(0, 1), (1, 1)]"
      ]
     },
     "execution_count": 15,
     "metadata": {},
     "output_type": "execute_result"
    }
   ],
   "source": [
    "# dictionary.token2id\n",
    "dictionary.doc2bow(preprocessed_sentences[0]) #transform\n"
   ]
  },
  {
   "cell_type": "code",
   "execution_count": 16,
   "id": "600de7bf-89ab-4d48-9b30-3d943974eaa6",
   "metadata": {
    "tags": []
   },
   "outputs": [
    {
     "data": {
      "text/plain": [
       "[[(0, 1), (1, 1)],\n",
       " [(2, 1)],\n",
       " [(3, 1)],\n",
       " [(4, 1), (5, 1), (6, 1)],\n",
       " [(7, 1)],\n",
       " [(8, 1), (9, 1), (10, 1)],\n",
       " [(11, 1), (12, 1), (13, 1)],\n",
       " [(14, 1), (15, 1)],\n",
       " [(5, 1), (16, 1), (17, 1)],\n",
       " [(18, 1), (19, 1), (20, 1)]]"
      ]
     },
     "execution_count": 16,
     "metadata": {},
     "output_type": "execute_result"
    }
   ],
   "source": [
    "corpus_list = list()\n",
    "for sentence in preprocessed_sentences:\n",
    "    morphs_vector = dictionary.doc2bow(sentence)\n",
    "    corpus_list.append(morphs_vector)\n",
    "corpus_list"
   ]
  },
  {
   "cell_type": "code",
   "execution_count": 17,
   "id": "d8bcc06a-cbb5-47b2-88a0-7573ff08a938",
   "metadata": {
    "tags": []
   },
   "outputs": [],
   "source": [
    "lda_model = LdaModel(corpus = corpus_list, id2word=dictionary, num_topics=3) #fix\n",
    "# LdaModel(corpus = corpus_list:리스트 모음, id2word=dictionary:숫자와 매칭 단어,;) "
   ]
  },
  {
   "cell_type": "code",
   "execution_count": 18,
   "id": "480cb936-e812-4f55-9e3e-cea16509a62f",
   "metadata": {
    "tags": []
   },
   "outputs": [
    {
     "data": {
      "text/plain": [
       "[(0, '0.133*\"것\" + 0.077*\"주말\" + 0.077*\"시간\" + 0.076*\"가족\" + 0.075*\"언어\"'),\n",
       " (1, '0.082*\"여행\" + 0.081*\"마음\" + 0.081*\"어디\" + 0.080*\"책\" + 0.080*\"날씨\"'),\n",
       " (2, '0.120*\"오늘\" + 0.119*\"친구\" + 0.116*\"음식\" + 0.040*\"영화\" + 0.038*\"나\"')]"
      ]
     },
     "execution_count": 18,
     "metadata": {},
     "output_type": "execute_result"
    }
   ],
   "source": [
    "lda_model.print_topics(num_words=5)"
   ]
  },
  {
   "cell_type": "code",
   "execution_count": null,
   "id": "da169678-cfc9-4018-904c-91aac6c393de",
   "metadata": {},
   "outputs": [],
   "source": []
  },
  {
   "cell_type": "code",
   "execution_count": null,
   "id": "b4ee3e39-6f92-44f2-90c2-44bac593c18d",
   "metadata": {},
   "outputs": [],
   "source": []
  }
 ],
 "metadata": {
  "kernelspec": {
   "display_name": "Python 3 (ipykernel)",
   "language": "python",
   "name": "python3"
  },
  "language_info": {
   "codemirror_mode": {
    "name": "ipython",
    "version": 3
   },
   "file_extension": ".py",
   "mimetype": "text/x-python",
   "name": "python",
   "nbconvert_exporter": "python",
   "pygments_lexer": "ipython3",
   "version": "3.11.3"
  }
 },
 "nbformat": 4,
 "nbformat_minor": 5
}
