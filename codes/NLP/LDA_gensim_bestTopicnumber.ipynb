{
 "cells": [
  {
   "cell_type": "code",
   "execution_count": 2,
   "id": "8c67c0b6-1d90-47f2-a396-38b2c09b2b6d",
   "metadata": {
    "tags": []
   },
   "outputs": [],
   "source": [
    "sentences = [\n",
    "    \"오늘 날씨가 좋아서 나들이 가고 싶다.\",\n",
    "    \"이 영화는 정말 재미있었어요.\",\n",
    "    \"맛있는 음식을 먹으러 갈까요?\",\n",
    "    \"운동을 하면 건강에 좋아지는 것 같아요.\",\n",
    "    \"공부하기 싫어서 미루고 있어요.\",\n",
    "    \"여행 계획을 세우고 있는데 어디로 갈까요?\",\n",
    "    \"좋은 책을 읽으면 마음이 편안해져.\",\n",
    "    \"오늘은 친구들과 만나서 재미있게 놀았어요.\",\n",
    "    \"새로운 언어를 배우는 것은 어려워도 흥미로워요.\",\n",
    "    \"주말에 가족들과 함께 시간을 보내기로 했습니다.\"\n",
    "]"
   ]
  },
  {
   "cell_type": "code",
   "execution_count": 3,
   "id": "0b810d8d-3dce-4428-a13c-57b73dbfa551",
   "metadata": {
    "tags": []
   },
   "outputs": [],
   "source": [
    "from gensim.corpora import Dictionary\n",
    "from gensim.models import LdaModel # 주제어 확인"
   ]
  },
  {
   "cell_type": "markdown",
   "id": "f2c2d732-6f58-4345-a781-2d2a85a911ca",
   "metadata": {},
   "source": [
    "### 전처리(형태소 분석, 불용어 처리 등)"
   ]
  },
  {
   "cell_type": "code",
   "execution_count": 4,
   "id": "b104b3e9-e88e-4b72-8b87-338437a34679",
   "metadata": {
    "tags": []
   },
   "outputs": [
    {
     "data": {
      "text/plain": [
       "[['날씨', '나'],\n",
       " ['영화'],\n",
       " ['음식'],\n",
       " ['운동', '건강', '것'],\n",
       " ['공부'],\n",
       " ['여행', '계획', '어디'],\n",
       " ['책', '마음', '편안'],\n",
       " ['오늘', '친구'],\n",
       " ['언어', '것', '흥미'],\n",
       " ['주말', '가족', '시간']]"
      ]
     },
     "execution_count": 4,
     "metadata": {},
     "output_type": "execute_result"
    }
   ],
   "source": [
    "from mecab import MeCab\n",
    "mecab = MeCab()\n",
    "# 형태분석기 사용해 명사만 추출\n",
    "morphs_list = list()\n",
    "for sentence in sentences :\n",
    "    morphs = mecab.nouns(sentence)\n",
    "    morphs_list.append(morphs)\n",
    "morphs_list"
   ]
  },
  {
   "cell_type": "code",
   "execution_count": 5,
   "id": "ce9cceea-261d-4a2d-a3f3-9693228711cc",
   "metadata": {
    "tags": []
   },
   "outputs": [],
   "source": [
    "preprocessed_sentences = morphs_list"
   ]
  },
  {
   "cell_type": "code",
   "execution_count": 6,
   "id": "51927322-5ce0-4eca-a21d-3593f3692591",
   "metadata": {
    "tags": []
   },
   "outputs": [
    {
     "data": {
      "text/plain": [
       "<gensim.corpora.dictionary.Dictionary at 0x172d71e0350>"
      ]
     },
     "execution_count": 6,
     "metadata": {},
     "output_type": "execute_result"
    }
   ],
   "source": [
    "dictionary = Dictionary(preprocessed_sentences)\n",
    "dictionary"
   ]
  },
  {
   "cell_type": "markdown",
   "id": "dd7f86ec-bf8b-4216-b3c2-dc0ce4070939",
   "metadata": {},
   "source": [
    "### transform with dictionary"
   ]
  },
  {
   "cell_type": "code",
   "execution_count": 7,
   "id": "ad735593-1ee0-43c9-9dfd-dd2700155c0c",
   "metadata": {
    "tags": []
   },
   "outputs": [
    {
     "data": {
      "text/plain": [
       "[(0, 1), (1, 1)]"
      ]
     },
     "execution_count": 7,
     "metadata": {},
     "output_type": "execute_result"
    }
   ],
   "source": [
    "# dictionary.token2id\n",
    "dictionary.doc2bow(preprocessed_sentences[0]) #transform\n"
   ]
  },
  {
   "cell_type": "code",
   "execution_count": 8,
   "id": "600de7bf-89ab-4d48-9b30-3d943974eaa6",
   "metadata": {
    "tags": []
   },
   "outputs": [
    {
     "data": {
      "text/plain": [
       "[[(0, 1), (1, 1)],\n",
       " [(2, 1)],\n",
       " [(3, 1)],\n",
       " [(4, 1), (5, 1), (6, 1)],\n",
       " [(7, 1)],\n",
       " [(8, 1), (9, 1), (10, 1)],\n",
       " [(11, 1), (12, 1), (13, 1)],\n",
       " [(14, 1), (15, 1)],\n",
       " [(5, 1), (16, 1), (17, 1)],\n",
       " [(18, 1), (19, 1), (20, 1)]]"
      ]
     },
     "execution_count": 8,
     "metadata": {},
     "output_type": "execute_result"
    }
   ],
   "source": [
    "corpus_list = list()\n",
    "for sentence in preprocessed_sentences:\n",
    "    morphs_vector = dictionary.doc2bow(sentence)\n",
    "    corpus_list.append(morphs_vector)\n",
    "corpus_list"
   ]
  },
  {
   "cell_type": "code",
   "execution_count": 9,
   "id": "d8bcc06a-cbb5-47b2-88a0-7573ff08a938",
   "metadata": {
    "tags": []
   },
   "outputs": [],
   "source": [
    "lda_model = LdaModel(corpus = corpus_list, id2word=dictionary, num_topics=3) #fix\n",
    "# LdaModel(corpus = corpus_list:리스트 모음, id2word=dictionary:숫자와 매칭 단어,;) "
   ]
  },
  {
   "cell_type": "code",
   "execution_count": 10,
   "id": "480cb936-e812-4f55-9e3e-cea16509a62f",
   "metadata": {
    "tags": []
   },
   "outputs": [
    {
     "data": {
      "text/plain": [
       "[(0, '0.147*\"것\" + 0.086*\"언어\" + 0.085*\"건강\" + 0.085*\"흥미\" + 0.084*\"친구\"'),\n",
       " (1, '0.088*\"어디\" + 0.087*\"계획\" + 0.087*\"여행\" + 0.087*\"주말\" + 0.086*\"가족\"'),\n",
       " (2, '0.098*\"편안\" + 0.097*\"나\" + 0.097*\"날씨\" + 0.097*\"마음\" + 0.094*\"책\"')]"
      ]
     },
     "execution_count": 10,
     "metadata": {},
     "output_type": "execute_result"
    }
   ],
   "source": [
    "lda_model.print_topics(num_words=5)"
   ]
  },
  {
   "cell_type": "markdown",
   "id": "a240cec7-fd5d-4bce-bff1-5a8e3a8734d8",
   "metadata": {},
   "source": [
    "### 최적에 토픽 단어 수"
   ]
  },
  {
   "cell_type": "code",
   "execution_count": 13,
   "id": "b4ee3e39-6f92-44f2-90c2-44bac593c18d",
   "metadata": {},
   "outputs": [],
   "source": [
    "# 일관성 변수\n",
    "from gensim.models.coherencemodel import CoherenceModel\n",
    "coherenceModel= CoherenceModel(model=lda_model, texts=morphs_list, dictionary=dictionary)"
   ]
  },
  {
   "cell_type": "code",
   "execution_count": 14,
   "id": "17909bc8-ae5d-4c98-828d-47f7239eb7af",
   "metadata": {
    "tags": []
   },
   "outputs": [
    {
     "data": {
      "text/plain": [
       "0.7216927052681839"
      ]
     },
     "execution_count": 14,
     "metadata": {},
     "output_type": "execute_result"
    }
   ],
   "source": [
    "coherenceModel.get_coherence()"
   ]
  },
  {
   "cell_type": "code",
   "execution_count": 16,
   "id": "8f9278dd-420d-4345-a22e-f7319272e2cd",
   "metadata": {
    "tags": []
   },
   "outputs": [
    {
     "data": {
      "text/plain": [
       "-4.039036811599379"
      ]
     },
     "execution_count": 16,
     "metadata": {},
     "output_type": "execute_result"
    }
   ],
   "source": [
    "# 혼잡도 점수\n",
    "lda_model.log_perplexity(corpus_list)"
   ]
  },
  {
   "cell_type": "code",
   "execution_count": 17,
   "id": "3a3fb834-47c8-47d4-9059-2dbae9a5564b",
   "metadata": {
    "tags": []
   },
   "outputs": [],
   "source": [
    "start_topic = 2\n",
    "end_topic = 10\n",
    "coherence_scores = list()\n",
    "perplexity_scores = list()\n",
    "for topic_number in range(start_topic, end_topic+1) : \n",
    "    lda_model = LdaModel(corpus = corpus_list, id2word=dictionary, num_topics=topic_number) #fix\n",
    "    coherenceModel= CoherenceModel(model=lda_model, texts=morphs_list, dictionary=dictionary)\n",
    "    coherence_scores.append(coherenceModel.get_coherence()) # 일관성 점수\n",
    "    perplexity_scores.append(lda_model.log_perplexity(corpus_list))"
   ]
  },
  {
   "cell_type": "code",
   "execution_count": 28,
   "id": "9d0dd469-3314-422c-969a-2c20c7c4eaec",
   "metadata": {
    "tags": []
   },
   "outputs": [
    {
     "data": {
      "text/html": [
       "<div>\n",
       "<style scoped>\n",
       "    .dataframe tbody tr th:only-of-type {\n",
       "        vertical-align: middle;\n",
       "    }\n",
       "\n",
       "    .dataframe tbody tr th {\n",
       "        vertical-align: top;\n",
       "    }\n",
       "\n",
       "    .dataframe thead th {\n",
       "        text-align: right;\n",
       "    }\n",
       "</style>\n",
       "<table border=\"1\" class=\"dataframe\">\n",
       "  <thead>\n",
       "    <tr style=\"text-align: right;\">\n",
       "      <th></th>\n",
       "      <th>0</th>\n",
       "      <th>1</th>\n",
       "      <th>2</th>\n",
       "      <th>3</th>\n",
       "      <th>4</th>\n",
       "      <th>5</th>\n",
       "      <th>6</th>\n",
       "      <th>7</th>\n",
       "      <th>8</th>\n",
       "    </tr>\n",
       "  </thead>\n",
       "  <tbody>\n",
       "    <tr>\n",
       "      <th>0</th>\n",
       "      <td>0.722258</td>\n",
       "      <td>0.721693</td>\n",
       "      <td>0.720562</td>\n",
       "      <td>0.723955</td>\n",
       "      <td>0.722258</td>\n",
       "      <td>0.723470</td>\n",
       "      <td>0.721410</td>\n",
       "      <td>0.722447</td>\n",
       "      <td>0.722258</td>\n",
       "    </tr>\n",
       "    <tr>\n",
       "      <th>1</th>\n",
       "      <td>-3.952689</td>\n",
       "      <td>-4.191126</td>\n",
       "      <td>-4.250948</td>\n",
       "      <td>-4.341282</td>\n",
       "      <td>-4.709170</td>\n",
       "      <td>-4.693683</td>\n",
       "      <td>-4.669834</td>\n",
       "      <td>-4.773792</td>\n",
       "      <td>-4.876496</td>\n",
       "    </tr>\n",
       "  </tbody>\n",
       "</table>\n",
       "</div>"
      ],
      "text/plain": [
       "          0         1         2         3         4         5         6  \\\n",
       "0  0.722258  0.721693  0.720562  0.723955  0.722258  0.723470  0.721410   \n",
       "1 -3.952689 -4.191126 -4.250948 -4.341282 -4.709170 -4.693683 -4.669834   \n",
       "\n",
       "          7         8  \n",
       "0  0.722447  0.722258  \n",
       "1 -4.773792 -4.876496  "
      ]
     },
     "execution_count": 28,
     "metadata": {},
     "output_type": "execute_result"
    }
   ],
   "source": [
    "import pandas as pd\n",
    "df_data = pd.DataFrame([coherence_scores,perplexity_scores])\n",
    "df_data"
   ]
  },
  {
   "cell_type": "code",
   "execution_count": 21,
   "id": "fe3b56fc-82b9-487d-8f2e-46abf5b2b21d",
   "metadata": {
    "tags": []
   },
   "outputs": [],
   "source": [
    "import seaborn as sns\n",
    "import matplotlib.pyplot as plt"
   ]
  },
  {
   "cell_type": "code",
   "execution_count": 33,
   "id": "eb5a1d61-7ac1-4e7c-bdc6-9f8e2b6923a7",
   "metadata": {
    "tags": []
   },
   "outputs": [
    {
     "data": {
      "image/png": "[encoded data removed]",
      "text/plain": [
       "<Figure size 640x480 with 1 Axes>"
      ]
     },
     "metadata": {},
     "output_type": "display_data"
    },
    {
     "data": {
      "image/png": "[encoded data removed]",
      "text/plain": [
       "<Figure size 640x480 with 1 Axes>"
      ]
     },
     "metadata": {},
     "output_type": "display_data"
    }
   ],
   "source": [
    "sns.lineplot(coherence_scores)\n",
    "plt.show()\n",
    "sns.lineplot(perplexity_scores)\n",
    "plt.show()"
   ]
  },
  {
   "cell_type": "code",
   "execution_count": null,
   "id": "f0a3f063-dd81-426e-97b2-cf5d508b3905",
   "metadata": {},
   "outputs": [],
   "source": []
  }
 ],
 "metadata": {
  "kernelspec": {
   "display_name": "Python 3 (ipykernel)",
   "language": "python",
   "name": "python3"
  },
  "language_info": {
   "codemirror_mode": {
    "name": "ipython",
    "version": 3
   },
   "file_extension": ".py",
   "mimetype": "text/x-python",
   "name": "python",
   "nbconvert_exporter": "python",
   "pygments_lexer": "ipython3",
   "version": "3.11.3"
  }
 },
 "nbformat": 4,
 "nbformat_minor": 5
}
