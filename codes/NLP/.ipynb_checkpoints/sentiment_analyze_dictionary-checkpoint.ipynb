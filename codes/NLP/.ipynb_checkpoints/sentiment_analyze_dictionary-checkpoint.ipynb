{
 "cells": [
  {
   "cell_type": "markdown",
   "id": "0e801855-fa3f-4e8c-ad30-c7633ad4434e",
   "metadata": {},
   "source": [
    "## 감성 사전에 의한 감성 분석"
   ]
  },
  {
   "cell_type": "markdown",
   "id": "a1466f9c-6949-4349-a9ea-b30aa239cade",
   "metadata": {
    "tags": []
   },
   "source": [
    "### 감성 사전 가져오기"
   ]
  },
  {
   "cell_type": "code",
   "execution_count": 1,
   "id": "ab1979cf-ffea-414e-aa67-80482adb69ec",
   "metadata": {
    "tags": []
   },
   "outputs": [],
   "source": [
    "import pandas as pd"
   ]
  },
  {
   "cell_type": "code",
   "execution_count": 6,
   "id": "c0f20c89-ebc8-40af-8944-8762577362ca",
   "metadata": {
    "tags": []
   },
   "outputs": [
    {
     "data": {
      "text/html": [
       "<div>\n",
       "<style scoped>\n",
       "    .dataframe tbody tr th:only-of-type {\n",
       "        vertical-align: middle;\n",
       "    }\n",
       "\n",
       "    .dataframe tbody tr th {\n",
       "        vertical-align: top;\n",
       "    }\n",
       "\n",
       "    .dataframe thead th {\n",
       "        text-align: right;\n",
       "    }\n",
       "</style>\n",
       "<table border=\"1\" class=\"dataframe\">\n",
       "  <thead>\n",
       "    <tr style=\"text-align: right;\">\n",
       "      <th></th>\n",
       "      <th>출처</th>\n",
       "    </tr>\n",
       "  </thead>\n",
       "  <tbody>\n",
       "    <tr>\n",
       "      <th>15</th>\n",
       "      <td>(-;</td>\n",
       "    </tr>\n",
       "    <tr>\n",
       "      <th>16</th>\n",
       "      <td>(^^)</td>\n",
       "    </tr>\n",
       "    <tr>\n",
       "      <th>17</th>\n",
       "      <td>(^-^)</td>\n",
       "    </tr>\n",
       "  </tbody>\n",
       "</table>\n",
       "</div>"
      ],
      "text/plain": [
       "       출처\n",
       "15    (-;\n",
       "16   (^^)\n",
       "17  (^-^)"
      ]
     },
     "execution_count": 6,
     "metadata": {},
     "output_type": "execute_result"
    }
   ],
   "source": [
    "df_positives = pd.read_csv('../../datasets/pos_pol_word.txt', delimiter='\\t')\n",
    "df_positives = df_positives[15:]\n",
    "df_positives[:3]"
   ]
  },
  {
   "cell_type": "code",
   "execution_count": 7,
   "id": "5d151be9-755c-4362-af0d-696294e2c95e",
   "metadata": {
    "tags": []
   },
   "outputs": [
    {
     "data": {
      "text/html": [
       "<div>\n",
       "<style scoped>\n",
       "    .dataframe tbody tr th:only-of-type {\n",
       "        vertical-align: middle;\n",
       "    }\n",
       "\n",
       "    .dataframe tbody tr th {\n",
       "        vertical-align: top;\n",
       "    }\n",
       "\n",
       "    .dataframe thead th {\n",
       "        text-align: right;\n",
       "    }\n",
       "</style>\n",
       "<table border=\"1\" class=\"dataframe\">\n",
       "  <thead>\n",
       "    <tr style=\"text-align: right;\">\n",
       "      <th></th>\n",
       "      <th>출처</th>\n",
       "    </tr>\n",
       "  </thead>\n",
       "  <tbody>\n",
       "    <tr>\n",
       "      <th>15</th>\n",
       "      <td>가난</td>\n",
       "    </tr>\n",
       "    <tr>\n",
       "      <th>16</th>\n",
       "      <td>가난뱅이</td>\n",
       "    </tr>\n",
       "    <tr>\n",
       "      <th>17</th>\n",
       "      <td>가난살이</td>\n",
       "    </tr>\n",
       "  </tbody>\n",
       "</table>\n",
       "</div>"
      ],
      "text/plain": [
       "      출처\n",
       "15    가난\n",
       "16  가난뱅이\n",
       "17  가난살이"
      ]
     },
     "execution_count": 7,
     "metadata": {},
     "output_type": "execute_result"
    }
   ],
   "source": [
    "df_negatives = pd.read_csv('../../datasets/neg_pol_word.txt', delimiter='\\t')\n",
    "df_negatives = df_negatives[15:]\n",
    "df_negatives[:3]"
   ]
  },
  {
   "cell_type": "markdown",
   "id": "7edf3a8b-3b9a-480f-ae70-c65ba9648db1",
   "metadata": {},
   "source": [
    "### 문장에 점수 적용(긍정 / 부정)"
   ]
  },
  {
   "cell_type": "code",
   "execution_count": 9,
   "id": "89525fae-3fce-4168-ac72-cd43cb2d3c6b",
   "metadata": {
    "tags": []
   },
   "outputs": [],
   "source": [
    "comment = '코로나19의 여파로 전 세계 교사들과 학생들 모두 혼란스러운 시기를 보내고 있습니다. 어려움 속에서도 학생들을 위해 안간힘을 쓰고 있는 모든 선생님들에게, 응원과 박수를 함께 보냅니다.'"
   ]
  },
  {
   "cell_type": "code",
   "execution_count": 13,
   "id": "7b88b406-1dbd-4cd0-9632-d4302635a400",
   "metadata": {
    "tags": []
   },
   "outputs": [
    {
     "name": "stdout",
     "output_type": "stream",
     "text": [
      "positive word in comment : 운\n",
      "positive word in comment : 함께\n"
     ]
    }
   ],
   "source": [
    "# 긍정 단어 포함 확인\n",
    "for positive_word in df_positives['출처'] : \n",
    "    if positive_word in comment :#comment 안에 positive_word 가 있냐?\n",
    "        print('positive word in comment : {0}'.format(positive_word)) # 있으면 format 안에 있는 변수를 써줘라\n",
    "\n",
    "        "
   ]
  },
  {
   "cell_type": "code",
   "execution_count": 19,
   "id": "c8fffdd3-7c6e-470b-bd82-fb2f29204db7",
   "metadata": {
    "tags": []
   },
   "outputs": [
    {
     "name": "stdout",
     "output_type": "stream",
     "text": [
      "neagtive word in comment : 어려움\n",
      "neagtive word in comment : 해\n",
      "neagtive word in comment : 혼란스러운\n"
     ]
    }
   ],
   "source": [
    "for negative_word in df_negatives['출처'] : \n",
    "    if negative_word in comment :#comment 안에 negative_word 가 있냐?\n",
    "        print('neagtive word in comment : {0}'.format(negative_word))"
   ]
  },
  {
   "cell_type": "code",
   "execution_count": null,
   "id": "5fbb17e7-ac0f-4b01-95b7-b61a1cf486b7",
   "metadata": {},
   "outputs": [],
   "source": []
  }
 ],
 "metadata": {
  "kernelspec": {
   "display_name": "Python 3 (ipykernel)",
   "language": "python",
   "name": "python3"
  },
  "language_info": {
   "codemirror_mode": {
    "name": "ipython",
    "version": 3
   },
   "file_extension": ".py",
   "mimetype": "text/x-python",
   "name": "python",
   "nbconvert_exporter": "python",
   "pygments_lexer": "ipython3",
   "version": "3.11.3"
  }
 },
 "nbformat": 4,
 "nbformat_minor": 5
}
