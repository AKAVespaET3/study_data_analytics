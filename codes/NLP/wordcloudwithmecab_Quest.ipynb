{
 "cells": [
  {
   "cell_type": "code",
   "execution_count": 8,
   "id": "36688d2a-6b25-4c02-9c4e-e59c01bd58bf",
   "metadata": {
    "tags": []
   },
   "outputs": [],
   "source": [
    "from wordcloud import WordCloud"
   ]
  },
  {
   "cell_type": "code",
   "execution_count": 9,
   "id": "5c4a1cd2-d88e-43f9-88b8-2b67772dff8d",
   "metadata": {
    "tags": []
   },
   "outputs": [],
   "source": [
    "# 한글 문장 리스트\n",
    "sentences = [\n",
    "    \"오늘 날씨가 좋아서 나들이 가고 싶다.\",\n",
    "    \"이 영화는 정말 재미있었어요.\",\n",
    "    \"맛있는 음식을 먹으러 갈까요?\",\n",
    "    \"운동을 하면 건강에 좋아지는 것 같아요.\",\n",
    "    \"공부하기 싫어서 미루고 있어요.\",\n",
    "    \"여행 계획을 세우고 있는데 어디로 갈까요?\",\n",
    "    \"좋은 책을 읽으면 마음이 편안해져요.\",\n",
    "    \"오늘은 친구들과 만나서 재미있게 놀았어요.\",\n",
    "    \"새로운 언어를 배우는 것은 어려워도 흥미로워요.\",\n",
    "    \"주말에 가족들과 함께 시간을 보내기로 했습니다.\"\n",
    "]"
   ]
  },
  {
   "cell_type": "markdown",
   "id": "72e54e92-c570-443f-b2e1-879183ac2479",
   "metadata": {},
   "source": [
    "### 조사 빼기 "
   ]
  },
  {
   "cell_type": "code",
   "execution_count": 18,
   "id": "863f2ca3-a3ef-4743-9d46-f86be2254edf",
   "metadata": {
    "tags": []
   },
   "outputs": [],
   "source": [
    "from mecab import MeCab"
   ]
  },
  {
   "cell_type": "code",
   "execution_count": 19,
   "id": "8f3d7e66-28eb-489c-a8ab-83aa095714d3",
   "metadata": {
    "tags": []
   },
   "outputs": [],
   "source": [
    "mecab = MeCab()"
   ]
  },
  {
   "cell_type": "code",
   "execution_count": 20,
   "id": "7a545abb-6293-4790-93f1-c532dcb472bc",
   "metadata": {
    "tags": []
   },
   "outputs": [
    {
     "data": {
      "text/plain": [
       "['날씨', '나']"
      ]
     },
     "execution_count": 20,
     "metadata": {},
     "output_type": "execute_result"
    }
   ],
   "source": [
    "## for문 돌려서 품사_tagging한다. \n",
    "mecab.nouns(sentences[0]) ## 명사 확인"
   ]
  },
  {
   "cell_type": "code",
   "execution_count": 21,
   "id": "4bcef4f0-78d0-4f31-9720-9d04439288f4",
   "metadata": {
    "tags": []
   },
   "outputs": [
    {
     "data": {
      "text/plain": [
       "(['날씨', '나'], ['영화'], ['날씨', '나', '영화'])"
      ]
     },
     "execution_count": 21,
     "metadata": {},
     "output_type": "execute_result"
    }
   ],
   "source": [
    "mecab.nouns(sentences[0]), mecab.nouns(sentences[1]), mecab.nouns(sentences[0]) + mecab.nouns(sentences[1]) "
   ]
  },
  {
   "cell_type": "code",
   "execution_count": 22,
   "id": "2cc49499-66b0-4d3b-be61-db889412b433",
   "metadata": {
    "tags": []
   },
   "outputs": [
    {
     "data": {
      "text/plain": [
       "['날씨',\n",
       " '나',\n",
       " '영화',\n",
       " '음식',\n",
       " '운동',\n",
       " '건강',\n",
       " '것',\n",
       " '공부',\n",
       " '여행',\n",
       " '계획',\n",
       " '어디',\n",
       " '책',\n",
       " '마음',\n",
       " '편안',\n",
       " '오늘',\n",
       " '친구',\n",
       " '언어',\n",
       " '것',\n",
       " '흥미',\n",
       " '주말',\n",
       " '가족',\n",
       " '시간']"
      ]
     },
     "execution_count": 22,
     "metadata": {},
     "output_type": "execute_result"
    }
   ],
   "source": [
    "# 형태분석기 사용해 명사만 추출\n",
    "morphs_list = list()\n",
    "for sentence in sentences :\n",
    "    morphs = mecab.nouns(sentence)\n",
    "    morphs_list = morphs_list + morphs\n",
    "morphs_list"
   ]
  },
  {
   "cell_type": "code",
   "execution_count": 23,
   "id": "72c3bdfa-957f-4423-b0be-cf5e8c61f6b6",
   "metadata": {
    "tags": []
   },
   "outputs": [
    {
     "data": {
      "text/plain": [
       "[('오늘', 'MAG'),\n",
       " ('날씨', 'NNG'),\n",
       " ('가', 'JKS'),\n",
       " ('좋', 'VA'),\n",
       " ('아서', 'EC'),\n",
       " ('나', 'NP'),\n",
       " ('들', 'XSN'),\n",
       " ('이', 'JKS'),\n",
       " ('가', 'VV'),\n",
       " ('고', 'EC'),\n",
       " ('싶', 'VX'),\n",
       " ('다', 'EF'),\n",
       " ('.', 'SF')]"
      ]
     },
     "execution_count": 23,
     "metadata": {},
     "output_type": "execute_result"
    }
   ],
   "source": [
    "mecab.pos(sentences[0]) ## 품사 확인"
   ]
  },
  {
   "cell_type": "markdown",
   "id": "bb506212-3955-4105-bd7e-bb0c350b453b",
   "metadata": {},
   "source": [
    "- 느낌표 필요함_감성분석에 사용됨.\n",
    "- UNKNOWN : matching때 확인 불가함. "
   ]
  },
  {
   "cell_type": "code",
   "execution_count": 25,
   "id": "82e1df74-85f0-49f4-8e00-f25b63a932be",
   "metadata": {
    "tags": []
   },
   "outputs": [
    {
     "data": {
      "text/plain": [
       "'주말 가족 시간'"
      ]
     },
     "execution_count": 25,
     "metadata": {},
     "output_type": "execute_result"
    }
   ],
   "source": [
    "# \"오늘 날씨가 좋아서 나들이 가고 싶다.\" -> 6개 \n",
    "# \"이 영화는 정말 재미있었어요.\" -> 4개 \n",
    "\n",
    "# 문장으로 합치기\n",
    "text = ' '.join(morphs)\n",
    "text "
   ]
  },
  {
   "cell_type": "code",
   "execution_count": 26,
   "id": "906585bb-8f7c-4ebb-993a-0992b2ad5761",
   "metadata": {
    "tags": []
   },
   "outputs": [
    {
     "data": {
      "text/plain": [
       "['주말', '가족', '시간']"
      ]
     },
     "execution_count": 26,
     "metadata": {},
     "output_type": "execute_result"
    }
   ],
   "source": [
    "# 단어로 쪼개기 \n",
    "text_split = text.split()\n",
    "text_split"
   ]
  },
  {
   "cell_type": "code",
   "execution_count": 27,
   "id": "265c8538-3faa-4e8e-bf94-373befe23110",
   "metadata": {
    "tags": []
   },
   "outputs": [
    {
     "data": {
      "text/plain": [
       "Counter({'주말': 1, '가족': 1, '시간': 1})"
      ]
     },
     "execution_count": 27,
     "metadata": {},
     "output_type": "execute_result"
    }
   ],
   "source": [
    "# counter를 이용해서 중복 여부 count\n",
    "from collections import Counter\n",
    "Counter(text_split)\n"
   ]
  },
  {
   "cell_type": "code",
   "execution_count": 28,
   "id": "eba68bca-5309-4e2d-b7eb-55bacb084748",
   "metadata": {
    "tags": []
   },
   "outputs": [
    {
     "data": {
      "text/plain": [
       "<wordcloud.wordcloud.WordCloud at 0x1ab57532e50>"
      ]
     },
     "execution_count": 28,
     "metadata": {},
     "output_type": "execute_result"
    }
   ],
   "source": [
    "# 한글 폰트 경로 설정 (Windows 환경에 맞게 경로 수정)\n",
    "font_path = 'C:/Windows/Fonts/malgun.ttf'\n",
    "\n",
    "wordCloud = WordCloud(font_path=font_path, background_color='white') #인스턴스화 \n",
    "wordCloud.generate_from_text(text)"
   ]
  },
  {
   "cell_type": "code",
   "execution_count": 29,
   "id": "d799a777-fc4e-4ab4-a035-ab5a81f5bd98",
   "metadata": {
    "tags": []
   },
   "outputs": [
    {
     "data": {
      "text/plain": [
       "{'주말': 1.0, '가족': 1.0, '시간': 1.0}"
      ]
     },
     "execution_count": 29,
     "metadata": {},
     "output_type": "execute_result"
    }
   ],
   "source": [
    "# count \n",
    "wordCloud.words_ "
   ]
  },
  {
   "cell_type": "code",
   "execution_count": 30,
   "id": "fa8efc0e-12fc-4034-9780-6fb10985fdfe",
   "metadata": {
    "tags": []
   },
   "outputs": [
    {
     "data": {
      "image/png": "[encoded data removed]",
      "text/plain": [
       "<Figure size 640x480 with 1 Axes>"
      ]
     },
     "metadata": {},
     "output_type": "display_data"
    }
   ],
   "source": [
    "import matplotlib.pyplot as plt\n",
    "plt.imshow(wordCloud)\n",
    "plt.axis('off') \n",
    "plt.show()"
   ]
  },
  {
   "cell_type": "code",
   "execution_count": null,
   "id": "c8195968-3e12-4103-a1e4-761d864ae704",
   "metadata": {},
   "outputs": [],
   "source": []
  },
  {
   "cell_type": "code",
   "execution_count": null,
   "id": "05fb0078-0659-4624-9d47-a84f0d69d96a",
   "metadata": {},
   "outputs": [],
   "source": []
  }
 ],
 "metadata": {
  "kernelspec": {
   "display_name": "Python 3 (ipykernel)",
   "language": "python",
   "name": "python3"
  },
  "language_info": {
   "codemirror_mode": {
    "name": "ipython",
    "version": 3
   },
   "file_extension": ".py",
   "mimetype": "text/x-python",
   "name": "python",
   "nbconvert_exporter": "python",
   "pygments_lexer": "ipython3",
   "version": "3.11.3"
  }
 },
 "nbformat": 4,
 "nbformat_minor": 5
}
