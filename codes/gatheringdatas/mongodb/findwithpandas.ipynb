{
 "cells": [
  {
   "cell_type": "code",
   "execution_count": 9,
   "id": "ac6b7d29-6714-4f60-b2bc-f0aa5143ba9d",
   "metadata": {
    "collapsed": true,
    "jupyter": {
     "outputs_hidden": true
    },
    "tags": []
   },
   "outputs": [
    {
     "name": "stdout",
     "output_type": "stream",
     "text": [
      "Retrieving notices: ...working... done\n",
      "Collecting package metadata (current_repodata.json): ...working... done\n",
      "Solving environment: ...working... done\n",
      "\n",
      "## Package Plan ##\n",
      "\n",
      "  environment location: C:\\Users\\01-10\\anaconda3\n",
      "\n",
      "  added / updated specs:\n",
      "    - pymongo\n",
      "\n",
      "\n",
      "The following packages will be downloaded:\n",
      "\n",
      "    package                    |            build\n",
      "    ---------------------------|-----------------\n",
      "    ca-certificates-2023.08.22 |       haa95532_0         123 KB\n",
      "    conda-23.7.4               |  py311haa95532_0         1.3 MB\n",
      "    openssl-1.1.1w             |       h2bbff1b_0         5.5 MB\n",
      "    ------------------------------------------------------------\n",
      "                                           Total:         6.9 MB\n",
      "\n",
      "The following packages will be UPDATED:\n",
      "\n",
      "  ca-certificates                     2023.05.30-haa95532_0 --> 2023.08.22-haa95532_0 \n",
      "  conda                              23.7.3-py311haa95532_0 --> 23.7.4-py311haa95532_0 \n",
      "  openssl                                 1.1.1v-h2bbff1b_0 --> 1.1.1w-h2bbff1b_0 \n",
      "\n",
      "\n",
      "\n",
      "Downloading and Extracting Packages\n",
      "\n",
      "ca-certificates-2023 | 123 KB    |            |   0% \n",
      "\n",
      "openssl-1.1.1w       | 5.5 MB    |            |   0% \u001b[A\n",
      "\n",
      "\n",
      "conda-23.7.4         | 1.3 MB    |            |   0% \u001b[A\u001b[A\n",
      "\n",
      "\n",
      "conda-23.7.4         | 1.3 MB    | ###1       |  32% \u001b[A\u001b[A\n",
      "\n",
      "openssl-1.1.1w       | 5.5 MB    |            |   1% \u001b[A\n",
      "\n",
      "\n",
      "conda-23.7.4         | 1.3 MB    | ########3  |  84% \u001b[A\u001b[A\n",
      "\n",
      "openssl-1.1.1w       | 5.5 MB    | 8          |   9% \u001b[A\n",
      "ca-certificates-2023 | 123 KB    | ##5        |  26% \n",
      "\n",
      "openssl-1.1.1w       | 5.5 MB    | ###        |  31% \u001b[A\n",
      "ca-certificates-2023 | 123 KB    | ########## | 100% \n",
      "\n",
      "openssl-1.1.1w       | 5.5 MB    | ####8      |  48% \u001b[A\n",
      "\n",
      "openssl-1.1.1w       | 5.5 MB    | ######7    |  68% \u001b[A\n",
      "\n",
      "openssl-1.1.1w       | 5.5 MB    | ########4  |  84% \u001b[A\n",
      "\n",
      "openssl-1.1.1w       | 5.5 MB    | ########## | 100% \u001b[A\n",
      "\n",
      "\n",
      "conda-23.7.4         | 1.3 MB    | ########## | 100% \u001b[A\u001b[A\n",
      "                                                     \n",
      "\n",
      "\n",
      "                                                     \u001b[A\n",
      "\n",
      "\n",
      "                                                     \u001b[A\u001b[A\n",
      "\n",
      "Preparing transaction: ...working... done\n",
      "Verifying transaction: ...working... done\n",
      "Executing transaction: ...working... done\n",
      "\n",
      "Note: you may need to restart the kernel to use updated packages.\n"
     ]
    }
   ],
   "source": [
    "%conda install pymongo"
   ]
  },
  {
   "cell_type": "code",
   "execution_count": 10,
   "id": "bb79cc98-f4dc-4938-9839-9e3771ee46b2",
   "metadata": {
    "tags": []
   },
   "outputs": [],
   "source": [
    "import pymongo as mg\n",
    "import pandas as pd"
   ]
  },
  {
   "cell_type": "code",
   "execution_count": 11,
   "id": "b029d35b-94b0-494b-ba20-1d5ef62dc96b",
   "metadata": {
    "tags": []
   },
   "outputs": [],
   "source": [
    "client = mg.MongoClient(host='mongodb://localhost:27017')"
   ]
  },
  {
   "cell_type": "code",
   "execution_count": 12,
   "id": "a911389d-3fee-4936-a7f5-a1d098ea0666",
   "metadata": {
    "tags": []
   },
   "outputs": [],
   "source": [
    "database = client['study_data_analytics']"
   ]
  },
  {
   "cell_type": "code",
   "execution_count": 13,
   "id": "b09513ca-6ea5-4326-b4ed-5731b98de62a",
   "metadata": {
    "tags": []
   },
   "outputs": [],
   "source": [
    "collection = database['collection_update'] # 테이블"
   ]
  },
  {
   "cell_type": "code",
   "execution_count": 14,
   "id": "d90a9931-366c-4d7f-8685-bf4cf9f1d4b3",
   "metadata": {
    "tags": []
   },
   "outputs": [],
   "source": [
    "cursor_data = collection.find({})"
   ]
  },
  {
   "cell_type": "code",
   "execution_count": 15,
   "id": "e660d744-102e-46e0-a865-539fccb5f0f0",
   "metadata": {},
   "outputs": [
    {
     "data": {
      "text/html": [
       "<div>\n",
       "<style scoped>\n",
       "    .dataframe tbody tr th:only-of-type {\n",
       "        vertical-align: middle;\n",
       "    }\n",
       "\n",
       "    .dataframe tbody tr th {\n",
       "        vertical-align: top;\n",
       "    }\n",
       "\n",
       "    .dataframe thead th {\n",
       "        text-align: right;\n",
       "    }\n",
       "</style>\n",
       "<table border=\"1\" class=\"dataframe\">\n",
       "  <thead>\n",
       "    <tr style=\"text-align: right;\">\n",
       "      <th></th>\n",
       "      <th>_id</th>\n",
       "      <th>name</th>\n",
       "      <th>age</th>\n",
       "      <th>city</th>\n",
       "    </tr>\n",
       "  </thead>\n",
       "  <tbody>\n",
       "    <tr>\n",
       "      <th>0</th>\n",
       "      <td>65012a6c89674e3929d3db2e</td>\n",
       "      <td>Alice</td>\n",
       "      <td>25</td>\n",
       "      <td>Seoul</td>\n",
       "    </tr>\n",
       "    <tr>\n",
       "      <th>1</th>\n",
       "      <td>65012a6c89674e3929d3db2f</td>\n",
       "      <td>Bob</td>\n",
       "      <td>30</td>\n",
       "      <td>Busan</td>\n",
       "    </tr>\n",
       "  </tbody>\n",
       "</table>\n",
       "</div>"
      ],
      "text/plain": [
       "                        _id   name  age   city\n",
       "0  65012a6c89674e3929d3db2e  Alice   25  Seoul\n",
       "1  65012a6c89674e3929d3db2f    Bob   30  Busan"
      ]
     },
     "execution_count": 15,
     "metadata": {},
     "output_type": "execute_result"
    }
   ],
   "source": [
    "df_collect_upadate = pd.DataFrame(list(cursor_data))\n",
    "df_collect_upadate[:2]"
   ]
  },
  {
   "cell_type": "code",
   "execution_count": 16,
   "id": "3d46d7d1-0c5f-4dbe-a80e-4265eab870c2",
   "metadata": {
    "tags": []
   },
   "outputs": [
    {
     "data": {
      "text/html": [
       "<div>\n",
       "<style scoped>\n",
       "    .dataframe tbody tr th:only-of-type {\n",
       "        vertical-align: middle;\n",
       "    }\n",
       "\n",
       "    .dataframe tbody tr th {\n",
       "        vertical-align: top;\n",
       "    }\n",
       "\n",
       "    .dataframe thead th {\n",
       "        text-align: right;\n",
       "    }\n",
       "</style>\n",
       "<table border=\"1\" class=\"dataframe\">\n",
       "  <thead>\n",
       "    <tr style=\"text-align: right;\">\n",
       "      <th></th>\n",
       "      <th>_id</th>\n",
       "      <th>name</th>\n",
       "      <th>age</th>\n",
       "      <th>city</th>\n",
       "      <th>update</th>\n",
       "    </tr>\n",
       "  </thead>\n",
       "  <tbody>\n",
       "    <tr>\n",
       "      <th>0</th>\n",
       "      <td>65012a6c89674e3929d3db2e</td>\n",
       "      <td>Alice</td>\n",
       "      <td>25</td>\n",
       "      <td>Seoul</td>\n",
       "      <td>2023-09-13 13:05:30.708238</td>\n",
       "    </tr>\n",
       "    <tr>\n",
       "      <th>1</th>\n",
       "      <td>65012a6c89674e3929d3db2f</td>\n",
       "      <td>Bob</td>\n",
       "      <td>30</td>\n",
       "      <td>Busan</td>\n",
       "      <td>2023-09-13 13:05:30.708238</td>\n",
       "    </tr>\n",
       "  </tbody>\n",
       "</table>\n",
       "</div>"
      ],
      "text/plain": [
       "                        _id   name  age   city                     update\n",
       "0  65012a6c89674e3929d3db2e  Alice   25  Seoul 2023-09-13 13:05:30.708238\n",
       "1  65012a6c89674e3929d3db2f    Bob   30  Busan 2023-09-13 13:05:30.708238"
      ]
     },
     "execution_count": 16,
     "metadata": {},
     "output_type": "execute_result"
    }
   ],
   "source": [
    "from datetime import datetime\n",
    "df_collect_upadate['update'] = datetime.now()\n",
    "df_collect_upadate[:2]"
   ]
  },
  {
   "cell_type": "code",
   "execution_count": 22,
   "id": "7329eeca-3910-4459-b1ea-1abda7d8c832",
   "metadata": {
    "tags": []
   },
   "outputs": [
    {
     "name": "stderr",
     "output_type": "stream",
     "text": [
      "C:\\Users\\01-10\\AppData\\Local\\Temp\\ipykernel_8496\\587625133.py:2: FutureWarning: Using short name for 'orient' is deprecated. Only the options: ('dict', list, 'series', 'split', 'records', 'index') will be used in a future version. Use one of the above to silence this warning.\n",
      "  dict_collect_update = df_collect_upadate.to_dict(orient = 'recodes')\n"
     ]
    }
   ],
   "source": [
    "collection_new = database['collect_update_new'] #'study_data_analytics' 폴더생성\n",
    "dict_collect_update = df_collect_upadate.to_dict(orient = 'recodes')\n",
    "result = collection_new.insert_many(dict_collect_update)"
   ]
  },
  {
   "cell_type": "code",
   "execution_count": 25,
   "id": "23ec2d02-9203-43d1-9f66-bb56aaa8294b",
   "metadata": {
    "tags": []
   },
   "outputs": [
    {
     "data": {
      "text/plain": [
       "[ObjectId('65012a6c89674e3929d3db2e'),\n",
       " ObjectId('65012a6c89674e3929d3db2f'),\n",
       " ObjectId('65012a6c89674e3929d3db30')]"
      ]
     },
     "execution_count": 25,
     "metadata": {},
     "output_type": "execute_result"
    }
   ],
   "source": [
    "result.inserted_ids"
   ]
  },
  {
   "cell_type": "code",
   "execution_count": null,
   "id": "4f9cd8fa-c5e3-4500-ba77-a5cd2a2a27ca",
   "metadata": {},
   "outputs": [],
   "source": []
  }
 ],
 "metadata": {
  "kernelspec": {
   "display_name": "Python 3 (ipykernel)",
   "language": "python",
   "name": "python3"
  },
  "language_info": {
   "codemirror_mode": {
    "name": "ipython",
    "version": 3
   },
   "file_extension": ".py",
   "mimetype": "text/x-python",
   "name": "python",
   "nbconvert_exporter": "python",
   "pygments_lexer": "ipython3",
   "version": "3.11.3"
  }
 },
 "nbformat": 4,
 "nbformat_minor": 5
}
