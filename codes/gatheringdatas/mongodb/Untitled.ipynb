{
 "cells": [
  {
   "cell_type": "code",
   "execution_count": 1,
   "id": "0e6acc16-d303-4d6d-abac-a4e008bf14cd",
   "metadata": {
    "tags": []
   },
   "outputs": [],
   "source": [
    "import pymongo as mg\n",
    "import pandas as pd"
   ]
  },
  {
   "cell_type": "code",
   "execution_count": 2,
   "id": "8da09a69-cba8-496e-ab7d-77675c73f95d",
   "metadata": {
    "tags": []
   },
   "outputs": [],
   "source": [
    "client = mg.MongoClient(host='mongodb://localhost:27017')"
   ]
  },
  {
   "cell_type": "code",
   "execution_count": 3,
   "id": "a2c5c1c6-8de6-4502-afd4-305ec1222db6",
   "metadata": {
    "tags": []
   },
   "outputs": [],
   "source": [
    "database = client['db_NHIS']"
   ]
  },
  {
   "cell_type": "code",
   "execution_count": 4,
   "id": "a86d39cd-5d68-4ecf-bfe4-347be2b0f988",
   "metadata": {
    "tags": []
   },
   "outputs": [],
   "source": [
    "collection = database['NSC2_D20']"
   ]
  },
  {
   "cell_type": "code",
   "execution_count": 5,
   "id": "1ea056dc-c2e0-4a24-86b9-a77db0a45e1b",
   "metadata": {
    "tags": []
   },
   "outputs": [],
   "source": [
    "cursor = collection.find({})"
   ]
  },
  {
   "cell_type": "code",
   "execution_count": 6,
   "id": "2a1d2787-66de-4872-bf2d-e58dd09c9a74",
   "metadata": {
    "tags": []
   },
   "outputs": [],
   "source": [
    "list_D20= list(cursor)"
   ]
  },
  {
   "cell_type": "code",
   "execution_count": null,
   "id": "9cdb264f-4747-45a9-ace7-95c469a77a89",
   "metadata": {},
   "outputs": [],
   "source": [
    "df_BNC_V2_1 = pd.DataFrame(list_D20)"
   ]
  }
 ],
 "metadata": {
  "kernelspec": {
   "display_name": "Python 3 (ipykernel)",
   "language": "python",
   "name": "python3"
  },
  "language_info": {
   "codemirror_mode": {
    "name": "ipython",
    "version": 3
   },
   "file_extension": ".py",
   "mimetype": "text/x-python",
   "name": "python",
   "nbconvert_exporter": "python",
   "pygments_lexer": "ipython3",
   "version": "3.11.3"
  }
 },
 "nbformat": 4,
 "nbformat_minor": 5
}
