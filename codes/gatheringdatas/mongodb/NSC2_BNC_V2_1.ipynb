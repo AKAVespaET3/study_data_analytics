{
 "cells": [
  {
   "cell_type": "code",
   "execution_count": 1,
   "id": "b67ba860-9efa-4d2c-bdc0-1f88cf84881f",
   "metadata": {
    "tags": []
   },
   "outputs": [],
   "source": [
    "import pymongo as mg\n",
    "import pandas as pd"
   ]
  },
  {
   "cell_type": "code",
   "execution_count": 2,
   "id": "ec6d7225-9cd1-461f-a87b-cc8a1dae4fd7",
   "metadata": {
    "tags": []
   },
   "outputs": [],
   "source": [
    "client = mg.MongoClient(host='mongodb://localhost:27017')"
   ]
  },
  {
   "cell_type": "code",
   "execution_count": 3,
   "id": "f6c0f7bc-5de9-45dc-bfc1-40b3013219a5",
   "metadata": {
    "tags": []
   },
   "outputs": [],
   "source": [
    "database = client['db_NHIS']"
   ]
  },
  {
   "cell_type": "code",
   "execution_count": 4,
   "id": "219e6ff9-5d30-4578-8051-207860e6bc17",
   "metadata": {
    "tags": []
   },
   "outputs": [],
   "source": [
    "collection = database['NSC2_BNC_V2_1']"
   ]
  },
  {
   "cell_type": "code",
   "execution_count": 6,
   "id": "c5b8775c-fdb4-4df9-8ab4-48853ae62532",
   "metadata": {
    "tags": []
   },
   "outputs": [],
   "source": [
    "cursor = collection.find({})"
   ]
  },
  {
   "cell_type": "code",
   "execution_count": 7,
   "id": "1d6fd563-c9e0-4236-9341-080c4688112d",
   "metadata": {
    "tags": []
   },
   "outputs": [],
   "source": [
    "list_BNC_V2_1= list(cursor)"
   ]
  },
  {
   "cell_type": "code",
   "execution_count": 10,
   "id": "9cbf83f8-890a-4ae1-8363-1952d0a7261a",
   "metadata": {
    "tags": []
   },
   "outputs": [],
   "source": [
    "df_BNC_V2_1 = pd.DataFrame(list_BNC_V2_1)"
   ]
  },
  {
   "cell_type": "code",
   "execution_count": 11,
   "id": "3fe53ea7-a708-4640-858d-1289f17ae214",
   "metadata": {
    "tags": []
   },
   "outputs": [
    {
     "data": {
      "text/html": [
       "<div>\n",
       "<style scoped>\n",
       "    .dataframe tbody tr th:only-of-type {\n",
       "        vertical-align: middle;\n",
       "    }\n",
       "\n",
       "    .dataframe tbody tr th {\n",
       "        vertical-align: top;\n",
       "    }\n",
       "\n",
       "    .dataframe thead th {\n",
       "        text-align: right;\n",
       "    }\n",
       "</style>\n",
       "<table border=\"1\" class=\"dataframe\">\n",
       "  <thead>\n",
       "    <tr style=\"text-align: right;\">\n",
       "      <th></th>\n",
       "      <th>_id</th>\n",
       "      <th>STD_YYYY</th>\n",
       "      <th>RN_INDI</th>\n",
       "      <th>SEX</th>\n",
       "      <th>SGG</th>\n",
       "      <th>GAIBJA_TYPE</th>\n",
       "      <th>SMPL_TYPE_CD</th>\n",
       "      <th>CTRB_Q10</th>\n",
       "      <th>G1E_OBJ_YN</th>\n",
       "      <th>DSB_TYPE_CD</th>\n",
       "      <th>DSB_SVRT_CD_V2</th>\n",
       "    </tr>\n",
       "  </thead>\n",
       "  <tbody>\n",
       "    <tr>\n",
       "      <th>0</th>\n",
       "      <td>64d310b2e3a5c452db31cb42</td>\n",
       "      <td>2002</td>\n",
       "      <td>1433</td>\n",
       "      <td>1</td>\n",
       "      <td>29140</td>\n",
       "      <td>7</td>\n",
       "      <td>1</td>\n",
       "      <td>NaN</td>\n",
       "      <td>NaN</td>\n",
       "      <td>NaN</td>\n",
       "      <td>NaN</td>\n",
       "    </tr>\n",
       "    <tr>\n",
       "      <th>1</th>\n",
       "      <td>64d310b2e3a5c452db31cb43</td>\n",
       "      <td>2003</td>\n",
       "      <td>1433</td>\n",
       "      <td>1</td>\n",
       "      <td>29140</td>\n",
       "      <td>7</td>\n",
       "      <td>1</td>\n",
       "      <td>NaN</td>\n",
       "      <td>NaN</td>\n",
       "      <td>NaN</td>\n",
       "      <td>NaN</td>\n",
       "    </tr>\n",
       "    <tr>\n",
       "      <th>2</th>\n",
       "      <td>64d310b2e3a5c452db31cb44</td>\n",
       "      <td>2004</td>\n",
       "      <td>1433</td>\n",
       "      <td>1</td>\n",
       "      <td>29140</td>\n",
       "      <td>7</td>\n",
       "      <td>1</td>\n",
       "      <td>NaN</td>\n",
       "      <td>NaN</td>\n",
       "      <td>NaN</td>\n",
       "      <td>NaN</td>\n",
       "    </tr>\n",
       "    <tr>\n",
       "      <th>3</th>\n",
       "      <td>64d310b2e3a5c452db31cb45</td>\n",
       "      <td>2005</td>\n",
       "      <td>1433</td>\n",
       "      <td>1</td>\n",
       "      <td>29140</td>\n",
       "      <td>7</td>\n",
       "      <td>1</td>\n",
       "      <td>NaN</td>\n",
       "      <td>NaN</td>\n",
       "      <td>NaN</td>\n",
       "      <td>NaN</td>\n",
       "    </tr>\n",
       "    <tr>\n",
       "      <th>4</th>\n",
       "      <td>64d310b2e3a5c452db31cb46</td>\n",
       "      <td>2006</td>\n",
       "      <td>1433</td>\n",
       "      <td>1</td>\n",
       "      <td>29140</td>\n",
       "      <td>7</td>\n",
       "      <td>1</td>\n",
       "      <td>NaN</td>\n",
       "      <td>NaN</td>\n",
       "      <td>NaN</td>\n",
       "      <td>NaN</td>\n",
       "    </tr>\n",
       "    <tr>\n",
       "      <th>...</th>\n",
       "      <td>...</td>\n",
       "      <td>...</td>\n",
       "      <td>...</td>\n",
       "      <td>...</td>\n",
       "      <td>...</td>\n",
       "      <td>...</td>\n",
       "      <td>...</td>\n",
       "      <td>...</td>\n",
       "      <td>...</td>\n",
       "      <td>...</td>\n",
       "      <td>...</td>\n",
       "    </tr>\n",
       "    <tr>\n",
       "      <th>13022</th>\n",
       "      <td>64d310b3e3a5c452db31fe20</td>\n",
       "      <td>2012</td>\n",
       "      <td>3000357</td>\n",
       "      <td>2</td>\n",
       "      <td>28237</td>\n",
       "      <td>6</td>\n",
       "      <td>4</td>\n",
       "      <td>NaN</td>\n",
       "      <td>NaN</td>\n",
       "      <td>NaN</td>\n",
       "      <td>NaN</td>\n",
       "    </tr>\n",
       "    <tr>\n",
       "      <th>13023</th>\n",
       "      <td>64d310b3e3a5c452db31fe21</td>\n",
       "      <td>2013</td>\n",
       "      <td>3000357</td>\n",
       "      <td>2</td>\n",
       "      <td>28245</td>\n",
       "      <td>2</td>\n",
       "      <td>4</td>\n",
       "      <td>6.0</td>\n",
       "      <td>NaN</td>\n",
       "      <td>NaN</td>\n",
       "      <td>NaN</td>\n",
       "    </tr>\n",
       "    <tr>\n",
       "      <th>13024</th>\n",
       "      <td>64d310b3e3a5c452db31fe22</td>\n",
       "      <td>2014</td>\n",
       "      <td>3000357</td>\n",
       "      <td>2</td>\n",
       "      <td>28245</td>\n",
       "      <td>2</td>\n",
       "      <td>4</td>\n",
       "      <td>6.0</td>\n",
       "      <td>NaN</td>\n",
       "      <td>NaN</td>\n",
       "      <td>NaN</td>\n",
       "    </tr>\n",
       "    <tr>\n",
       "      <th>13025</th>\n",
       "      <td>64d310b3e3a5c452db31fe23</td>\n",
       "      <td>2015</td>\n",
       "      <td>3000357</td>\n",
       "      <td>2</td>\n",
       "      <td>28245</td>\n",
       "      <td>2</td>\n",
       "      <td>4</td>\n",
       "      <td>7.0</td>\n",
       "      <td>NaN</td>\n",
       "      <td>NaN</td>\n",
       "      <td>NaN</td>\n",
       "    </tr>\n",
       "    <tr>\n",
       "      <th>13026</th>\n",
       "      <td>64d310b3e3a5c452db31fe24</td>\n",
       "      <td>2015</td>\n",
       "      <td>3000758</td>\n",
       "      <td>1</td>\n",
       "      <td>41287</td>\n",
       "      <td>6</td>\n",
       "      <td>4</td>\n",
       "      <td>NaN</td>\n",
       "      <td>NaN</td>\n",
       "      <td>NaN</td>\n",
       "      <td>NaN</td>\n",
       "    </tr>\n",
       "  </tbody>\n",
       "</table>\n",
       "<p>13027 rows × 11 columns</p>\n",
       "</div>"
      ],
      "text/plain": [
       "                            _id  STD_YYYY  RN_INDI  SEX    SGG  GAIBJA_TYPE  \\\n",
       "0      64d310b2e3a5c452db31cb42      2002     1433    1  29140            7   \n",
       "1      64d310b2e3a5c452db31cb43      2003     1433    1  29140            7   \n",
       "2      64d310b2e3a5c452db31cb44      2004     1433    1  29140            7   \n",
       "3      64d310b2e3a5c452db31cb45      2005     1433    1  29140            7   \n",
       "4      64d310b2e3a5c452db31cb46      2006     1433    1  29140            7   \n",
       "...                         ...       ...      ...  ...    ...          ...   \n",
       "13022  64d310b3e3a5c452db31fe20      2012  3000357    2  28237            6   \n",
       "13023  64d310b3e3a5c452db31fe21      2013  3000357    2  28245            2   \n",
       "13024  64d310b3e3a5c452db31fe22      2014  3000357    2  28245            2   \n",
       "13025  64d310b3e3a5c452db31fe23      2015  3000357    2  28245            2   \n",
       "13026  64d310b3e3a5c452db31fe24      2015  3000758    1  41287            6   \n",
       "\n",
       "       SMPL_TYPE_CD  CTRB_Q10 G1E_OBJ_YN  DSB_TYPE_CD  DSB_SVRT_CD_V2  \n",
       "0                 1       NaN        NaN          NaN             NaN  \n",
       "1                 1       NaN        NaN          NaN             NaN  \n",
       "2                 1       NaN        NaN          NaN             NaN  \n",
       "3                 1       NaN        NaN          NaN             NaN  \n",
       "4                 1       NaN        NaN          NaN             NaN  \n",
       "...             ...       ...        ...          ...             ...  \n",
       "13022             4       NaN        NaN          NaN             NaN  \n",
       "13023             4       6.0        NaN          NaN             NaN  \n",
       "13024             4       6.0        NaN          NaN             NaN  \n",
       "13025             4       7.0        NaN          NaN             NaN  \n",
       "13026             4       NaN        NaN          NaN             NaN  \n",
       "\n",
       "[13027 rows x 11 columns]"
      ]
     },
     "execution_count": 11,
     "metadata": {},
     "output_type": "execute_result"
    }
   ],
   "source": [
    "df_BNC_V2_1"
   ]
  },
  {
   "cell_type": "code",
   "execution_count": 13,
   "id": "c60cfac5-fb7d-4d08-9d76-8020acef52c4",
   "metadata": {
    "tags": []
   },
   "outputs": [],
   "source": [
    "df_BNC_V2_1.to_csv('./NSC2_BNC_V2_1.csv')"
   ]
  },
  {
   "cell_type": "code",
   "execution_count": null,
   "id": "de7e07a7-7283-4795-86b1-9907c8fc3527",
   "metadata": {},
   "outputs": [],
   "source": []
  }
 ],
 "metadata": {
  "kernelspec": {
   "display_name": "Python 3 (ipykernel)",
   "language": "python",
   "name": "python3"
  },
  "language_info": {
   "codemirror_mode": {
    "name": "ipython",
    "version": 3
   },
   "file_extension": ".py",
   "mimetype": "text/x-python",
   "name": "python",
   "nbconvert_exporter": "python",
   "pygments_lexer": "ipython3",
   "version": "3.11.3"
  }
 },
 "nbformat": 4,
 "nbformat_minor": 5
}
