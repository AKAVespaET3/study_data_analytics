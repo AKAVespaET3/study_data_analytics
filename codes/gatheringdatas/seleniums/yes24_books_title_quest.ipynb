{
 "cells": [
  {
   "cell_type": "code",
   "execution_count": 15,
   "id": "bfb8d781-9462-419d-b217-6f87a47455b7",
   "metadata": {
    "tags": []
   },
   "outputs": [],
   "source": [
    "from selenium import webdriver\n",
    "import pandas as pd\n",
    "import csv"
   ]
  },
  {
   "cell_type": "code",
   "execution_count": 2,
   "id": "dd4b4fd9-f651-4beb-913e-93d2d7f226c0",
   "metadata": {
    "tags": []
   },
   "outputs": [],
   "source": [
    "#open chrome \n",
    "browser = webdriver.Chrome(executable_path='../../../../chromedriver.exe')"
   ]
  },
  {
   "cell_type": "code",
   "execution_count": 3,
   "id": "3bb2dba8-537e-453b-89b3-b20ef4e211c0",
   "metadata": {},
   "outputs": [],
   "source": [
    "#url in address window\n",
    "browser.get('https://brunch.co.kr/keyword/%EC%B1%85%EB%A6%AC%EB%B7%B0')"
   ]
  },
  {
   "cell_type": "markdown",
   "id": "7202b0cf-1ea7-400f-b9cd-603048fb67a0",
   "metadata": {},
   "source": [
    "### 여러개 element 가져오기"
   ]
  },
  {
   "cell_type": "code",
   "execution_count": 4,
   "id": "d16798d3-78de-4703-824e-4d340b938bdd",
   "metadata": {
    "tags": []
   },
   "outputs": [
    {
     "data": {
      "text/plain": [
       "(list, selenium.webdriver.remote.webelement.WebElement)"
      ]
     },
     "execution_count": 4,
     "metadata": {},
     "output_type": "execute_result"
    }
   ],
   "source": [
    "element_path = '.tit_subject'\n",
    "elements = browser.find_elements_by_css_selector(element_path)\n",
    "type(elements), type(elements[0])"
   ]
  },
  {
   "cell_type": "code",
   "execution_count": 7,
   "id": "8448bf6b-4037-470c-a398-ddf71ec98473",
   "metadata": {
    "tags": []
   },
   "outputs": [],
   "source": [
    "book_titles = []"
   ]
  },
  {
   "cell_type": "code",
   "execution_count": 14,
   "id": "1a403d72-4a5e-4ff0-ac6c-6e3459437088",
   "metadata": {
    "tags": []
   },
   "outputs": [
    {
     "name": "stdout",
     "output_type": "stream",
     "text": [
      "'국사'만으로는 부족하다. '동북아사'여야 한다\n",
      "젊어서 위태로운 예술가를 향한 등대\n",
      "그래서 내가 불안했던 거야\n",
      "완벽한 아이 팔아요\n",
      "일상의 모험 - 서동욱\n",
      "Egon Schiele : the complete wo\n",
      "노동자의 시간은 저절로 흐르지 않는다\n",
      "방랑기 / 하야시 후미코 / 1930\n",
      "나카오카 겐메이에게 배우는 일\n",
      "퇴사하고 잘 놀고 잘 살고 싶다\n",
      "쾌락 과잉 시대에서 균형 찾기\n",
      "평온할 줄만 알았던 그녀의 모험\n",
      "그래도 사랑했고 그래서 버텼던 시절\n",
      "물건을 버리며 얻은 변화와 행복\n",
      "당신을 위해서라면 죽어도 좋아요\n",
      "선량하지 않은 '선량한 사람'\n",
      "포장도 변명도 과장도 없는 일상의 장면들\n",
      "<사라진 개발자들>을 읽고\n",
      "당장 오늘 하루를 잘 보내는 방법\n",
      "가시가 허용되지 않는 고슴도치 이야기\n"
     ]
    }
   ],
   "source": [
    "for webelement in elements:\n",
    "    book_title = webelement.text\n",
    "    book_titles.append(book_title)\n",
    "    print(book_title)"
   ]
  },
  {
   "cell_type": "code",
   "execution_count": 16,
   "id": "7013ab7f-959d-4b4c-9437-0c22532022a6",
   "metadata": {
    "tags": []
   },
   "outputs": [],
   "source": [
    "csv_filename = \"book_titles.csv\""
   ]
  },
  {
   "cell_type": "code",
   "execution_count": 17,
   "id": "1cec9c27-12a5-465a-b65b-b78aeebfcb98",
   "metadata": {
    "tags": []
   },
   "outputs": [],
   "source": [
    "with open(csv_filename, mode=\"w\", newline=\"\", encoding=\"utf-8\") as file:\n",
    "    writer = csv.writer(file)\n",
    "    writer.writerow([\"Book Title\"])  # CSV 파일의 헤더\n",
    "    for title in book_titles:\n",
    "        writer.writerow([title])\n"
   ]
  },
  {
   "cell_type": "code",
   "execution_count": 18,
   "id": "29a45f4e-8dd7-47fa-a543-b3f33b3f6517",
   "metadata": {
    "tags": []
   },
   "outputs": [
    {
     "name": "stdout",
     "output_type": "stream",
     "text": [
      "책 제목들을 book_titles.csv 파일로 저장했습니다.\n"
     ]
    }
   ],
   "source": [
    "print(f\"책 제목들을 {csv_filename} 파일로 저장했습니다.\")"
   ]
  },
  {
   "cell_type": "code",
   "execution_count": null,
   "id": "a9e4b495-ce98-4af8-93d4-7294acab8268",
   "metadata": {},
   "outputs": [],
   "source": [
    "v\n",
    "csv_filename = \"book_titles.csv\"\n",
    "\n",
    "with open(csv_filename, mode=\"w\", newline=\"\", encoding=\"utf-8\") as file:\n",
    "    writer = csv.writer(file)\n",
    "    writer.writerow([\"Book Title\"])  # CSV 파일의 헤더\n",
    "    for title in book_titles:\n",
    "        writer.writerow([title])\n",
    "\n",
    "\n",
    "이 코드는 Selenium을 사용하여 웹 페이지에서 책 제목을 가져온 후, CSV 파일로 저장합니다. csv_filename 변수에 저장할 CSV 파일의 이름을 지정할 수 있습니다. 코드를 실행하면 책 제목이 담긴 CSV 파일이 생성되고, 해당 파일에 데이터가 저장됩니다.\n",
    "\n",
    "\n",
    "\n",
    "\n",
    "\n"
   ]
  },
  {
   "cell_type": "code",
   "execution_count": null,
   "id": "24935b45-9088-447e-9be9-e9c428749c0f",
   "metadata": {},
   "outputs": [],
   "source": []
  }
 ],
 "metadata": {
  "kernelspec": {
   "display_name": "Python 3 (ipykernel)",
   "language": "python",
   "name": "python3"
  },
  "language_info": {
   "codemirror_mode": {
    "name": "ipython",
    "version": 3
   },
   "file_extension": ".py",
   "mimetype": "text/x-python",
   "name": "python",
   "nbconvert_exporter": "python",
   "pygments_lexer": "ipython3",
   "version": "3.11.3"
  }
 },
 "nbformat": 4,
 "nbformat_minor": 5
}
