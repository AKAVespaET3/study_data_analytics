{
 "cells": [
  {
   "cell_type": "code",
   "execution_count": 1,
   "id": "bfb8d781-9462-419d-b217-6f87a47455b7",
   "metadata": {
    "tags": []
   },
   "outputs": [],
   "source": [
    "from selenium import webdriver"
   ]
  },
  {
   "cell_type": "code",
   "execution_count": 2,
   "id": "dd4b4fd9-f651-4beb-913e-93d2d7f226c0",
   "metadata": {
    "tags": []
   },
   "outputs": [],
   "source": [
    "#open chrome \n",
    "browser = webdriver.Chrome(executable_path='../../../../chromedriver.exe')"
   ]
  },
  {
   "cell_type": "code",
   "execution_count": 3,
   "id": "4a80e9cc-4152-4f99-b493-00189858adae",
   "metadata": {
    "tags": []
   },
   "outputs": [],
   "source": [
    "#url in address\n",
    "browser.get('https://emart.ssg.com/disp/category.ssg?dispCtgId=6000214033')"
   ]
  },
  {
   "cell_type": "markdown",
   "id": "7202b0cf-1ea7-400f-b9cd-603048fb67a0",
   "metadata": {},
   "source": [
    "### 여러개 element 가져오기"
   ]
  },
  {
   "cell_type": "code",
   "execution_count": 4,
   "id": "d16798d3-78de-4703-824e-4d340b938bdd",
   "metadata": {
    "collapsed": true,
    "jupyter": {
     "outputs_hidden": true,
     "source_hidden": true
    },
    "tags": []
   },
   "outputs": [
    {
     "data": {
      "text/plain": [
       "(list, selenium.webdriver.remote.webelement.WebElement)"
      ]
     },
     "execution_count": 4,
     "metadata": {},
     "output_type": "execute_result"
    }
   ],
   "source": [
    "element_path = '.mnemitem_goods_tit'\n",
    "elements = browser.find_elements_by_css_selector(element_path)\n",
    "type(elements), type(elements[0])"
   ]
  },
  {
   "cell_type": "code",
   "execution_count": 5,
   "id": "1a403d72-4a5e-4ff0-ac6c-6e3459437088",
   "metadata": {
    "collapsed": true,
    "jupyter": {
     "outputs_hidden": true
    },
    "tags": []
   },
   "outputs": [
    {
     "name": "stdout",
     "output_type": "stream",
     "text": [
      "몰리스 쉬야응가 1회용 패드 L 50매\n",
      "몰리스 쉬야응가 1회용 패드 L 50매\n",
      "몰리스 쉬야응가 1회용 패드 M 100매\n",
      "몰리스 쉬야응가 1회용 패드 M 100매\n",
      "\n",
      "\n",
      "\n",
      "\n",
      "\n",
      "\n",
      "\n",
      "\n",
      "\n",
      "\n",
      "\n",
      "\n",
      "\n",
      "\n",
      "\n",
      "\n",
      "반려견패드(중)40*50cm*100매\n",
      "반려견패드(대)60*70cm*45매\n",
      "순살듬뿍 치킨말이스틱 30P (300g)\n",
      "순살듬뿍 오리말이스틱 30P (300g)\n",
      "건강한간식 순살듬뿍 고구마 오리말이 300g\n",
      "건강한간식 순살듬뿍 고구마 치킨말이 300g\n",
      "몰리스픽 반려견 패드 L 45매\n",
      "건강한간식 순살듬뿍 안심오리 300g\n",
      "반려견 사료 10kg\n",
      "몰리스 화이트 스틱껌 소프트치킨 400g\n",
      "템테이션 맛있는 닭고기맛 75g\n",
      "몰리스픽 반려견 패드 M 100매\n",
      "국민가격 DTC 치킨고구마 져키 1kg\n",
      "몰리스 미끄러지지 않는 패드 M 80매\n",
      "몰리스 쉬야응가 1회용 패드 M 100매\n",
      "템테이션 고소한 참치맛 75g\n",
      "건강한간식 순살듬뿍 안심치킨 300g\n",
      "치킨 슬라이스 1kg\n",
      "몰리스 미니 닭가슴살과 연어\n",
      "포켄스 덴탈스틱 후레시 칼슘 S 작은별 220g\n",
      "템테이션 믹스업 참치 연어 새우맛 75g\n",
      "츄잉스틱 플레인요거트 250g\n",
      "자연소재 양고기육포&쌀 460g\n",
      "밥이보약 Dog 튼튼한 관절 8kg (네오2 유통기한 23.10.17)\n",
      "템테이션 풍부한 해산물 맛75g\n",
      "몰리스 3~4회용 패드 L 35매\n",
      "포켄스 덴탈스틱 후레시 블루베리 S 작은별 220g\n",
      "[몰리스]프로발란스 어덜트 8kg\n",
      "(이마트가 직접 수입한) 딱 한번 반려견 패드 M 200매\n",
      "자연소재 소고기육포스틱 180g\n",
      "국민 두부 고양이 모래(오리지널)\n",
      "포켄스 덴티페어리 M 75g\n",
      "포켄스 덴티페어리 SS 150g\n",
      "맥시 비프져키 800g\n",
      "몰리스미니참치와도미\n",
      "[포켄스] 덴티 페어리(소)\n",
      "원더푸드 반려견 고구마말랭이 간식 1kg\n",
      "챠오 츄루 참치 4개입\n",
      "챠오 츄르 참치/해물믹스맛 20개입\n",
      "순살간식 오리고기 순살 300g\n",
      "해피밀 황태와 소고기 1.2kg\n",
      "몰리스 미끄러지지 않는 패드 L 35매\n",
      "포켄스 덴탈스틱 후레시 오메가3 S 작은별 220g\n",
      "몰리스픽 전연령 반려묘사료 15KG\n",
      "몰리스 닭가슴살과흰살생선\n",
      "슈퍼츄 터키츄 본S 10개입\n",
      "Think your Dog Teeth 소고기우유껌 15P\n",
      "[시저] 연어와 감자 (100g*3개)\n",
      "몰리스 3~4회용 패드 M 80매\n",
      "반려묘사료 10kg\n",
      "몰리스 크런치홀릭 닭고기 60g\n",
      "템테이션 연어맛 75g\n",
      "[쉬바] 참치 흰 살과 도미와 그레이비 소스 85g\n",
      "칠면조힘줄 스트립 85g\n",
      "챠오 츄르 닭가슴살 4개입\n",
      "몰리스픽 전연령 반려묘사료 5KG\n",
      "Natural 밀크스틱27P(80g)\n",
      "몰리스미니참치와게맛살\n",
      "[시저 Cesar] 비프 사료 100g*3\n",
      "후코홀릭 명태베리\n",
      "[쉬바] 촉촉한 닭가슴살과 그레이비 소스 85g\n",
      "위스카스 캣 주니어 포켓 오션피쉬 1.1kg (2~12개월)\n",
      "해피밀 황태와 오리 1.2kg\n",
      "몰리스 크런치홀릭 연어 60g\n",
      "국민 두부 고양이 모래(녹차)\n",
      "헌터본 연어 16P 240g\n",
      "챠오 츄르 가다랑어 4개입\n",
      "해피밀 황태와 연어 1.2kg\n",
      "몰리스 쉬야응가 1회용 패드 XL 40매\n",
      "템테이션 부드러운 우유맛 75g\n",
      "[시저] 흰살생선과 야채 (100g*3개)\n",
      "슈퍼츄 터키츄 링S 1개입\n",
      "내츄럴랩 건강한치즈 애견간식 요거트 스틱 100g\n",
      "보양대첩 쿨링 30g캔 *8입\n",
      "자연소재 오리고기 육포스틱 460g\n",
      "츄르비 닭가슴살&구운가다랑어 4개입\n",
      "몰리스 냄새잡는 패드 M 80매\n",
      "츄잉스틱 딸기요거트 250g\n",
      "가 직접 수입한 치킨 화이트본 S 13개입\n",
      "몰리스 치즈 화이트스틱껌 치킨 270g\n"
     ]
    }
   ],
   "source": [
    "for webelement in elements:\n",
    "    try : \n",
    "        print(webelement.text)\n",
    "    except :\n",
    "        pass"
   ]
  },
  {
   "cell_type": "markdown",
   "id": "d2126a7a-faa1-406f-b235-903f1b2923ed",
   "metadata": {},
   "source": [
    "### paginations\n",
    "- page 2 tag : #area_itemlist > div.paginate > div > a:nth-child(2)\n",
    "- page 7 tag :#area_itemlist > div.paginate > div > a:nth-child(7)"
   ]
  },
  {
   "cell_type": "code",
   "execution_count": 6,
   "id": "85980d19-c0a8-43c8-ac09-dd11dbe9092a",
   "metadata": {
    "tags": []
   },
   "outputs": [],
   "source": [
    "# element_path = '#area_itemlist > div.paginate > div > a:nth-child(1)'\n",
    "# pagination = browser.find_element_by_css_selector(element_path)\n",
    "# pagination.click()"
   ]
  },
  {
   "cell_type": "code",
   "execution_count": 7,
   "id": "92c72af1-1bee-488d-a4d9-01fcf3e26f67",
   "metadata": {
    "tags": []
   },
   "outputs": [],
   "source": [
    "browser.implicitly_wait(10)"
   ]
  },
  {
   "cell_type": "code",
   "execution_count": 8,
   "id": "2f95e56a-0849-4288-9791-fee60d1ca01f",
   "metadata": {
    "collapsed": true,
    "jupyter": {
     "outputs_hidden": true
    },
    "tags": []
   },
   "outputs": [
    {
     "name": "stdout",
     "output_type": "stream",
     "text": [
      "몰리스 쉬야응가 1회용 패드 L 50매\n",
      "몰리스 쉬야응가 1회용 패드 L 50매\n",
      "몰리스 쉬야응가 1회용 패드 M 100매\n",
      "몰리스 쉬야응가 1회용 패드 M 100매\n",
      "\n",
      "\n",
      "\n",
      "\n",
      "\n",
      "\n",
      "\n",
      "\n",
      "\n",
      "\n",
      "\n",
      "\n",
      "\n",
      "\n",
      "\n",
      "\n",
      "반려견패드(중)40*50cm*100매\n",
      "반려견패드(대)60*70cm*45매\n",
      "순살듬뿍 치킨말이스틱 30P (300g)\n",
      "순살듬뿍 오리말이스틱 30P (300g)\n",
      "건강한간식 순살듬뿍 고구마 오리말이 300g\n",
      "건강한간식 순살듬뿍 고구마 치킨말이 300g\n",
      "몰리스픽 반려견 패드 L 45매\n",
      "건강한간식 순살듬뿍 안심오리 300g\n",
      "반려견 사료 10kg\n",
      "몰리스 화이트 스틱껌 소프트치킨 400g\n",
      "템테이션 맛있는 닭고기맛 75g\n",
      "몰리스픽 반려견 패드 M 100매\n",
      "국민가격 DTC 치킨고구마 져키 1kg\n",
      "몰리스 미끄러지지 않는 패드 M 80매\n",
      "몰리스 쉬야응가 1회용 패드 M 100매\n",
      "템테이션 고소한 참치맛 75g\n",
      "건강한간식 순살듬뿍 안심치킨 300g\n",
      "치킨 슬라이스 1kg\n",
      "몰리스 미니 닭가슴살과 연어\n",
      "포켄스 덴탈스틱 후레시 칼슘 S 작은별 220g\n",
      "템테이션 믹스업 참치 연어 새우맛 75g\n",
      "츄잉스틱 플레인요거트 250g\n",
      "자연소재 양고기육포&쌀 460g\n",
      "밥이보약 Dog 튼튼한 관절 8kg (네오2 유통기한 23.10.17)\n",
      "템테이션 풍부한 해산물 맛75g\n",
      "몰리스 3~4회용 패드 L 35매\n",
      "포켄스 덴탈스틱 후레시 블루베리 S 작은별 220g\n",
      "[몰리스]프로발란스 어덜트 8kg\n",
      "(이마트가 직접 수입한) 딱 한번 반려견 패드 M 200매\n",
      "자연소재 소고기육포스틱 180g\n",
      "국민 두부 고양이 모래(오리지널)\n",
      "포켄스 덴티페어리 M 75g\n",
      "포켄스 덴티페어리 SS 150g\n",
      "맥시 비프져키 800g\n",
      "몰리스미니참치와도미\n",
      "[포켄스] 덴티 페어리(소)\n",
      "원더푸드 반려견 고구마말랭이 간식 1kg\n",
      "챠오 츄루 참치 4개입\n",
      "챠오 츄르 참치/해물믹스맛 20개입\n",
      "순살간식 오리고기 순살 300g\n",
      "해피밀 황태와 소고기 1.2kg\n",
      "몰리스 미끄러지지 않는 패드 L 35매\n",
      "포켄스 덴탈스틱 후레시 오메가3 S 작은별 220g\n",
      "몰리스픽 전연령 반려묘사료 15KG\n",
      "몰리스 닭가슴살과흰살생선\n",
      "슈퍼츄 터키츄 본S 10개입\n",
      "Think your Dog Teeth 소고기우유껌 15P\n",
      "[시저] 연어와 감자 (100g*3개)\n",
      "몰리스 3~4회용 패드 M 80매\n",
      "반려묘사료 10kg\n",
      "몰리스 크런치홀릭 닭고기 60g\n",
      "템테이션 연어맛 75g\n",
      "[쉬바] 참치 흰 살과 도미와 그레이비 소스 85g\n",
      "칠면조힘줄 스트립 85g\n",
      "챠오 츄르 닭가슴살 4개입\n",
      "몰리스픽 전연령 반려묘사료 5KG\n",
      "Natural 밀크스틱27P(80g)\n",
      "몰리스미니참치와게맛살\n",
      "[시저 Cesar] 비프 사료 100g*3\n",
      "후코홀릭 명태베리\n",
      "[쉬바] 촉촉한 닭가슴살과 그레이비 소스 85g\n",
      "위스카스 캣 주니어 포켓 오션피쉬 1.1kg (2~12개월)\n",
      "해피밀 황태와 오리 1.2kg\n",
      "몰리스 크런치홀릭 연어 60g\n",
      "국민 두부 고양이 모래(녹차)\n",
      "헌터본 연어 16P 240g\n",
      "챠오 츄르 가다랑어 4개입\n",
      "해피밀 황태와 연어 1.2kg\n",
      "몰리스 쉬야응가 1회용 패드 XL 40매\n",
      "템테이션 부드러운 우유맛 75g\n",
      "[시저] 흰살생선과 야채 (100g*3개)\n",
      "슈퍼츄 터키츄 링S 1개입\n",
      "내츄럴랩 건강한치즈 애견간식 요거트 스틱 100g\n",
      "보양대첩 쿨링 30g캔 *8입\n",
      "자연소재 오리고기 육포스틱 460g\n",
      "츄르비 닭가슴살&구운가다랑어 4개입\n",
      "몰리스 냄새잡는 패드 M 80매\n",
      "츄잉스틱 딸기요거트 250g\n",
      "가 직접 수입한 치킨 화이트본 S 13개입\n",
      "몰리스 치즈 화이트스틱껌 치킨 270g\n"
     ]
    }
   ],
   "source": [
    "element_title_path = '.mnemitem_goods_tit'\n",
    "webelements = browser.find_elements_by_css_selector(element_title_path)\n",
    "for webelement in webelements:\n",
    "    try :\n",
    "        print(webelement.text)\n",
    "    except :\n",
    "        pass"
   ]
  },
  {
   "cell_type": "code",
   "execution_count": 12,
   "id": "dd098dbe-8315-45b1-8fe9-a894969c51d8",
   "metadata": {
    "tags": []
   },
   "outputs": [
    {
     "name": "stdout",
     "output_type": "stream",
     "text": [
      "성공 : div.paginate > div > a:nth-of-type(1)\n",
      "실패 : div.paginate > div > a:nth-of-type(1)\n",
      "실패 : div.paginate > div > a:nth-of-type(2)\n",
      "실패 : div.paginate > div > a:nth-of-type(3)\n",
      "실패 : div.paginate > div > a:nth-of-type(4)\n",
      "실패 : div.paginate > div > a:nth-of-type(5)\n",
      "실패 : div.paginate > div > a:nth-of-type(6)\n",
      "실패 : div.paginate > div > a:nth-of-type(7)\n",
      "실패 : div.paginate > div > a:nth-of-type(8)\n",
      "실패 : div.paginate > div > a:nth-of-type(9)\n",
      "실패 : div.paginate > div > a:nth-of-type(10)\n"
     ]
    }
   ],
   "source": [
    "import time\n",
    "\n",
    "for page_number in range(1, 11):  # 첫 페이지는 tag 달라짐\n",
    "    element_path = 'div.paginate > div > a:nth-of-type({})'.format(page_number)\n",
    "    try :\n",
    "        pagination = browser.find_element_by_css_selector(element_path)\n",
    "        pagination.click()    \n",
    "        print('성공 : {}'.format(element_path))\n",
    "        \n",
    "        time.sleep(3)\n",
    "        element_title_path = '.mnemitem_goods_tit'\n",
    "        webelements = browser.find_elements_by_css_selector(element_title_path)\n",
    "        \n",
    "        for webelement in webelements:\n",
    "            try :\n",
    "                print(webelement.text)\n",
    "            except :\n",
    "                pass\n",
    "        \n",
    "    except :\n",
    "        print('실패 : {}'.format(element_path))\n",
    "        pass"
   ]
  },
  {
   "cell_type": "code",
   "execution_count": 8,
   "id": "5f788ee7-1c75-4f49-bf69-c87d051fd5fe",
   "metadata": {
    "tags": []
   },
   "outputs": [],
   "source": [
    "browser.quit()"
   ]
  },
  {
   "cell_type": "code",
   "execution_count": null,
   "id": "a9e4b495-ce98-4af8-93d4-7294acab8268",
   "metadata": {},
   "outputs": [],
   "source": []
  }
 ],
 "metadata": {
  "kernelspec": {
   "display_name": "Python 3 (ipykernel)",
   "language": "python",
   "name": "python3"
  },
  "language_info": {
   "codemirror_mode": {
    "name": "ipython",
    "version": 3
   },
   "file_extension": ".py",
   "mimetype": "text/x-python",
   "name": "python",
   "nbconvert_exporter": "python",
   "pygments_lexer": "ipython3",
   "version": "3.11.3"
  }
 },
 "nbformat": 4,
 "nbformat_minor": 5
}
