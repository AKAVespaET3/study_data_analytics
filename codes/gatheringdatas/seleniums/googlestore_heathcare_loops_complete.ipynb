{
 "cells": [
  {
   "cell_type": "code",
   "execution_count": 18,
   "id": "9e190532-a7a3-4e69-84d1-6af70581543f",
   "metadata": {},
   "outputs": [],
   "source": [
    "from selenium import webdriver\n",
    "import time"
   ]
  },
  {
   "cell_type": "code",
   "execution_count": 19,
   "id": "e377608a-7b5c-4005-a3f3-e2f78f7c74dd",
   "metadata": {},
   "outputs": [],
   "source": [
    "# open chrome browser\n",
    "browser = webdriver.Chrome(executable_path='../../../../chromedriver.exe')"
   ]
  },
  {
   "cell_type": "code",
   "execution_count": 20,
   "id": "89d5f541-f2dc-4a61-ba8e-2206ff4c26f7",
   "metadata": {},
   "outputs": [],
   "source": [
    "# url in address window\n",
    "browser.get('https://play.google.com/store/search?q=%ED%97%AC%EC%8A%A4%EC%BC%80%EC%96%B4%EC%95%B1&c=apps&hl=ko-KR')"
   ]
  },
  {
   "cell_type": "code",
   "execution_count": 21,
   "id": "545bdec0-21ed-4b5f-8ecd-18252eb8dd9a",
   "metadata": {},
   "outputs": [],
   "source": [
    "browser.implicitly_wait(10)"
   ]
  },
  {
   "cell_type": "code",
   "execution_count": 22,
   "id": "1a865931-0735-4862-97cc-5bb8ad2b383c",
   "metadata": {},
   "outputs": [],
   "source": [
    "import pandas as pd\n",
    "import pymongo as mg"
   ]
  },
  {
   "cell_type": "code",
   "execution_count": 23,
   "id": "3e478fed-df1b-4804-86b4-eb0da6e17f2e",
   "metadata": {
    "tags": []
   },
   "outputs": [],
   "source": [
    "client = mg.MongoClient(host='mongodb://localhost:27017')\n",
    "database = client['study_data_analytics']\n",
    "collection = database['googlestore_heathcare']"
   ]
  },
  {
   "cell_type": "code",
   "execution_count": 24,
   "id": "bf634e0f-09ca-456d-bf3d-8844a7cc2cc1",
   "metadata": {
    "tags": []
   },
   "outputs": [
    {
     "data": {
      "text/plain": [
       "30"
      ]
     },
     "execution_count": 24,
     "metadata": {},
     "output_type": "execute_result"
    }
   ],
   "source": [
    "# 서비스 앱에 대한 리스트\n",
    "click_path = 'section > div > div > div > div'\n",
    "company_list = browser.find_elements_by_css_selector(click_path)\n",
    "\n",
    "len(company_list)"
   ]
  },
  {
   "cell_type": "code",
   "execution_count": 17,
   "id": "5a274a3d-f150-44f6-9491-398dadd58709",
   "metadata": {
    "tags": []
   },
   "outputs": [
    {
     "name": "stdout",
     "output_type": "stream",
     "text": [
      "current reviews_bundle count : 40\n",
      "current reviews_bundle count : 80\n",
      "current reviews_bundle count : 120\n",
      "Done 120\n",
      "service_name : Samsung Health(삼성 헬스), review count : 120\n",
      "current reviews_bundle count : 40\n",
      "current reviews_bundle count : 80\n",
      "current reviews_bundle count : 120\n",
      "current reviews_bundle count : 160\n",
      "current reviews_bundle count : 200\n",
      "current reviews_bundle count : 240\n",
      "current reviews_bundle count : 249\n",
      "current reviews_bundle count : 249\n",
      "current reviews_bundle count : 249\n",
      "current reviews_bundle count : 249\n",
      "current reviews_bundle count : 249\n",
      "Done 249\n",
      "service_name : NH헬스케어, review count : 249\n",
      "Done 17\n",
      "service_name : 케어헬스, review count : 17\n",
      "Done 1\n",
      "service_name : 헬스케어 건강관리서비스, review count : 1\n",
      "Done 7\n",
      "service_name : 기업용 디지털 헬스케어 삼성화재 애니핏 프로(PRO), review count : 7\n",
      "Done 40\n",
      "service_name : 플랜핏 - 헬스 홈트 운동 루틴 추천과 피트니스 기록, review count : 40\n",
      "Done 2\n",
      "service_name : SK VIEW 헬스케어, review count : 2\n",
      "Done 28\n",
      "service_name : 헬스 커넥트(베타), review count : 28\n",
      "service_name : Samsung Health(삼성 헬스), review count : 0\n",
      "current reviews_bundle count : 25\n",
      "current reviews_bundle count : 25\n",
      "Done 25\n",
      "service_name : 삼성생명 S-헬스케어, review count : 25\n",
      "current reviews_bundle count : 40\n",
      "current reviews_bundle count : 80\n",
      "current reviews_bundle count : 97\n",
      "Done 97\n",
      "service_name : 온닥터, review count : 97\n",
      "Done 40\n",
      "service_name : 플릭 - 운동일지, 운동기록, 운동일기, 운동루틴, review count : 40\n",
      "current reviews_bundle count : 40\n",
      "current reviews_bundle count : 80\n",
      "current reviews_bundle count : 120\n",
      "current reviews_bundle count : 139\n",
      "current reviews_bundle count : 139\n",
      "Done 139\n",
      "service_name : 오케어, review count : 139\n",
      "Done 40\n",
      "service_name : 헬스 플랫폼, review count : 40\n",
      "current reviews_bundle count : 40\n",
      "current reviews_bundle count : 80\n",
      "current reviews_bundle count : 120\n",
      "current reviews_bundle count : 160\n",
      "current reviews_bundle count : 200\n",
      "current reviews_bundle count : 240\n",
      "current reviews_bundle count : 280\n",
      "current reviews_bundle count : 301\n",
      "current reviews_bundle count : 301\n",
      "current reviews_bundle count : 301\n",
      "current reviews_bundle count : 301\n",
      "Done 301\n",
      "service_name : 어떠케어 - 내 몸이 궁금할 때, review count : 301\n",
      "current reviews_bundle count : 40\n",
      "current reviews_bundle count : 80\n",
      "current reviews_bundle count : 120\n",
      "current reviews_bundle count : 160\n",
      "current reviews_bundle count : 166\n",
      "current reviews_bundle count : 166\n",
      "current reviews_bundle count : 166\n",
      "current reviews_bundle count : 166\n",
      "Done 166\n",
      "service_name : 로그, review count : 166\n",
      "Done 24\n",
      "service_name : PT쌤 - 운동 헬스 체중관리 체력테스트 홈트 기록, review count : 24\n",
      "current reviews_bundle count : 40\n",
      "Done 40\n",
      "service_name : Google 피트니스: 활동 추적, review count : 40\n",
      "Done 40\n",
      "service_name : 나만의닥터 - 전국민 건강지원금으로 병원비 아끼기, review count : 40\n",
      "Done 40\n",
      "service_name : 번핏 -헬스 & 운동일지 운동기록 운동루틴 헬스루틴, review count : 40\n",
      "Done 40\n",
      "service_name : 착한의사-건강검진 예약부터 검진결과조회, 의료인상담까지, review count : 40\n",
      "current reviews_bundle count : 40\n",
      "current reviews_bundle count : 60\n",
      "current reviews_bundle count : 60\n",
      "Done 60\n",
      "service_name : 오늘건강 - 어르신 건강관리 앱, review count : 60\n",
      "Done 40\n",
      "service_name : 정관장 케어나우, review count : 40\n",
      "Done 40\n",
      "service_name : T 올케어플러스 분실파손보상센터, review count : 40\n"
     ]
    },
    {
     "ename": "IndexError",
     "evalue": "list index out of range",
     "output_type": "error",
     "traceback": [
      "\u001b[1;31m---------------------------------------------------------------------------\u001b[0m",
      "\u001b[1;31mIndexError\u001b[0m                                Traceback (most recent call last)",
      "Cell \u001b[1;32mIn[17], line 27\u001b[0m\n\u001b[0;32m     24\u001b[0m \u001b[38;5;28;01mimport\u001b[39;00m \u001b[38;5;21;01mre\u001b[39;00m \u001b[38;5;66;03m# reqexpress function\u001b[39;00m\n\u001b[0;32m     25\u001b[0m result_list \u001b[38;5;241m=\u001b[39m re\u001b[38;5;241m.\u001b[39mfindall(\u001b[38;5;124mr\u001b[39m\u001b[38;5;124m'\u001b[39m\u001b[38;5;124m\\\u001b[39m\u001b[38;5;124md+\u001b[39m\u001b[38;5;124m'\u001b[39m, review_total_count_text)\n\u001b[1;32m---> 27\u001b[0m review_total_count \u001b[38;5;241m=\u001b[39m \u001b[38;5;28mint\u001b[39m(result_list[\u001b[38;5;241m0\u001b[39m]) \u001b[38;5;66;03m# 리뷰 총 갯수\u001b[39;00m\n\u001b[0;32m     29\u001b[0m \u001b[38;5;66;03m# [service_name, company_name, app_information]\u001b[39;00m\n\u001b[0;32m     30\u001b[0m \n\u001b[0;32m     31\u001b[0m \u001b[38;5;66;03m# 댓글 팝업 띄우기(해당 리뷰 없을 시 대비한 방어 코드 작성 필요)\u001b[39;00m\n\u001b[0;32m     32\u001b[0m review_flag \u001b[38;5;241m=\u001b[39m \u001b[38;5;28;01mTrue\u001b[39;00m\n",
      "\u001b[1;31mIndexError\u001b[0m: list index out of range"
     ]
    }
   ],
   "source": [
    "for company in company_list:\n",
    "    company.click()\n",
    "    time.sleep(2)\n",
    "\n",
    "    # 서비스 앱에 대한 정보 가져오기\n",
    "    try:\n",
    "        service_name = browser.find_element_by_css_selector('div > h1 > span').text\n",
    "    except :\n",
    "        service_name = str()\n",
    "    try :    \n",
    "        company_name = browser.find_element_by_css_selector('div.Il7kR > div > div > div > a > span').text\n",
    "    except : \n",
    "        company_name = str()\n",
    "    try :    \n",
    "        app_information = browser.find_element_by_css_selector('div:nth-child(1) > c-wiz:nth-child(2) > div > section > div').text\n",
    "    except :\n",
    "        app_information = str()\n",
    "\n",
    "    #### 리뷰 총 갯수 가져오기\n",
    "    ## 리뷰 총 갯수 tag : div:nth-child(1) > div.g1rdde\n",
    "    review_total_count_text = browser.find_element_by_css_selector('div:nth-child(1) > div.g1rdde').text\n",
    "    \n",
    "    # 댓글 팝업 띄우기 (해당 리뷰 없을 시 대비한 방어 코드 작성 필요)\n",
    "    import re # reqexpress function\n",
    "    result_list = re.findall(r'\\d+', review_total_count_text)\n",
    "\n",
    "    review_total_count = int(result_list[0]) # 리뷰 총 갯수\n",
    "    \n",
    "    # [service_name, company_name, app_information]\n",
    "\n",
    "    # 댓글 팝업 띄우기(해당 리뷰 없을 시 대비한 방어 코드 작성 필요)\n",
    "    review_flag = True\n",
    "    try :\n",
    "        browser.find_element_by_xpath('//*/div/div/button/*[contains(text(), \"리뷰\")]').click()    \n",
    "    except :\n",
    "        review_flag = False\n",
    "    \n",
    "    # 회사 서비스에 대한 전체 리뷰 가져오기\n",
    "    serviceapp_columns_name = ['service_name', 'content', 'date', 'stars']\n",
    "    reviews_list = list()\n",
    "    if review_flag :\n",
    "        #팝업 띄우기\n",
    "        reviews_bundle = browser.find_elements_by_css_selector('div.fysCi > div > div:nth-child(2) > div')\n",
    "        len(reviews_bundle)    \n",
    "\n",
    "        #팝업 속 댓글 전체 표시\n",
    "        review_standard_count_per = 40\n",
    "\n",
    "        loop_count_int = int(review_total_count / review_standard_count_per)\n",
    "        for count in range(1, loop_count_int+1) :\n",
    "            try :\n",
    "                reviews_bundle = browser.find_elements_by_css_selector('div.fysCi > div > div:nth-child(2) > div')\n",
    "                print('current reviews_bundle count : {}'.format(len(reviews_bundle)))\n",
    "                reviews_bundle[len(reviews_bundle)-1].click()\n",
    "                # print('current reviews_bundle count : {}'.format(len(reviews_bundle)))\n",
    "                time.sleep(3)\n",
    "            except :\n",
    "                print('pass')\n",
    "                pass\n",
    "        print('Done', len(reviews_bundle))\n",
    "\n",
    "        # 팝업 댓글 수정\n",
    "        for review_bundle in reviews_bundle:\n",
    "            content = review_bundle.find_element_by_css_selector('div.h3YV2d').text\n",
    "            date = review_bundle.find_element_by_css_selector('header > div.Jx4nYe > span').text\n",
    "            stars = review_bundle.find_element_by_css_selector('header > div.Jx4nYe > div').get_attribute('aria-label')\n",
    "            review_list = [service_name, content, date, stars]\n",
    "            reviews_list.append(review_list)  # 리뷰에 대한 모든 것(특정 회사 서비스에 대한)\n",
    "\n",
    "        browser.back() # 팝업 닫기\n",
    "        \n",
    "        # 저장 위한 작업\n",
    "        df_reviews = pd.DataFrame(data=reviews_list, columns=serviceapp_columns_name)\n",
    "        data_dict = df_reviews.to_dict(orient='records')\n",
    "        collection.insert_many(data_dict)\n",
    "        \n",
    "    print('service_name : {}, review count : {}'.format(service_name, len(reviews_list)))\n",
    "    browser.back() # 리스트로 돌아가기\n",
    "    time.sleep(3)\n",
    "print('Done')"
   ]
  },
  {
   "cell_type": "code",
   "execution_count": null,
   "id": "695342c5-98d2-4156-a1ac-5bf3da6635c6",
   "metadata": {
    "tags": []
   },
   "outputs": [],
   "source": [
    "browser.quit()"
   ]
  },
  {
   "cell_type": "code",
   "execution_count": null,
   "id": "f8fdbbaf-0935-46c1-87e9-ed0986d33419",
   "metadata": {},
   "outputs": [],
   "source": []
  },
  {
   "cell_type": "code",
   "execution_count": null,
   "id": "2ec1fb2c-f57e-4802-b21b-f6806391b89c",
   "metadata": {},
   "outputs": [],
   "source": []
  }
 ],
 "metadata": {
  "kernelspec": {
   "display_name": "Python 3 (ipykernel)",
   "language": "python",
   "name": "python3"
  },
  "language_info": {
   "codemirror_mode": {
    "name": "ipython",
    "version": 3
   },
   "file_extension": ".py",
   "mimetype": "text/x-python",
   "name": "python",
   "nbconvert_exporter": "python",
   "pygments_lexer": "ipython3",
   "version": "3.11.3"
  }
 },
 "nbformat": 4,
 "nbformat_minor": 5
}
