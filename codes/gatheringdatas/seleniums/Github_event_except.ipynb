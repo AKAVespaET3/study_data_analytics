{
 "cells": [
  {
   "cell_type": "markdown",
   "id": "ce028234-88f3-44c5-84b5-bbe62a9ac261",
   "metadata": {},
   "source": [
    "## Github Signin\n",
    "- https://www.selenium.dev/selenium/docs/api/py/webdriver_remote/selenium.webdriver.remote.webelement.html"
   ]
  },
  {
   "cell_type": "code",
   "execution_count": 28,
   "id": "8fadfe0a-76c1-4aaf-a353-0c0c1540c2fb",
   "metadata": {
    "tags": []
   },
   "outputs": [],
   "source": [
    "from selenium import webdriver\n",
    "# options = webdriver.ChromeOptions()\n",
    "# options.add_argument(\"--window-size=1560,840\")\n",
    "# browser = webdriver.Chrome(executable_path='../../../../chromedriver.exe', options=options)\n",
    "\n",
    "browser = webdriver.Chrome(executable_path='../../../../chromedriver.exe',)\n",
    "# url in address window\n",
    "browser.get('https://github.com/')"
   ]
  },
  {
   "cell_type": "markdown",
   "id": "e655a701-982b-4d31-ad03-2b99b42da30e",
   "metadata": {},
   "source": [
    "### Login 화면 링크 tag\n",
    "- 접힘 메뉴 : body > div.logged-out.env-production.page-responsive.header-overlay.home-campaign > div.position-relative.js-header-wrapper > header > div > div.d-flex.flex-justify-between.flex-items-center.width-full.width-lg-auto > div.flex-1.flex-order-2.text-right > button > span > span\n",
    "- click tag : div > div > div > a.HeaderMenu-link.HeaderMenu-link--sign-in\n",
    "- form_textfield = driver.find_element(By.NAME, 'username')\n",
    "- form_textfield.send_keys(\"admin\")"
   ]
  },
  {
   "cell_type": "code",
   "execution_count": 29,
   "id": "0bcbc913-e29e-47d1-a7ad-c557d9c9adf7",
   "metadata": {
    "tags": []
   },
   "outputs": [],
   "source": [
    "element_path = 'body > div.logged-out.env-production.page-responsive.header-overlay.home-campaign > div.position-relative.js-header-wrapper > header > div > div.d-flex.flex-justify-between.flex-items-center.width-full.width-lg-auto > div.flex-1.flex-order-2.text-right > button > span > span'\n",
    "try : \n",
    "    collaspsed_menu = browser.find_element_by_css_selector(element_path)\n",
    "    collaspsed_menu.click()\n",
    "except : \n",
    "    pass"
   ]
  },
  {
   "cell_type": "code",
   "execution_count": 30,
   "id": "f1456aa1-d0f3-4af4-9b85-6a4af3bb7068",
   "metadata": {
    "tags": []
   },
   "outputs": [
    {
     "data": {
      "text/plain": [
       "selenium.webdriver.remote.webelement.WebElement"
      ]
     },
     "execution_count": 30,
     "metadata": {},
     "output_type": "execute_result"
    }
   ],
   "source": [
    "element_path = 'div > div > div > a.HeaderMenu-link.HeaderMenu-link--sign-in'\n",
    "# browser.find_element_by_css_selector(element_path).click()\n",
    "signin_button = browser.find_element_by_css_selector(element_path) #그화면 그대로 이용할거면 리턴값 있어야함\n",
    "type(signin_button)"
   ]
  },
  {
   "cell_type": "code",
   "execution_count": 31,
   "id": "ecdeea51-1516-4e27-b13e-d87c319d361d",
   "metadata": {
    "tags": []
   },
   "outputs": [],
   "source": [
    "signin_button.click()"
   ]
  },
  {
   "cell_type": "markdown",
   "id": "ebb583c8-abdd-4f61-97ac-aa14b90da1b9",
   "metadata": {
    "tags": []
   },
   "source": [
    "### Login 화면\n",
    "- user id input tag : #login_field\n",
    "- password input tag : #password\n",
    "- click tag : input.btn.btn-primary.btn-block.js-sign-in-button"
   ]
  },
  {
   "cell_type": "code",
   "execution_count": 32,
   "id": "59ab9ff0-2496-45ad-bb85-bccb11314436",
   "metadata": {},
   "outputs": [],
   "source": [
    "element_path = '#login_field'\n",
    "login_field = browser.find_element_by_css_selector(element_path)\n",
    "login_field.send_keys('quattrini244@gmail.com')"
   ]
  },
  {
   "cell_type": "code",
   "execution_count": 16,
   "id": "d4a69575-b075-4e34-b2fb-4b63c2a13c63",
   "metadata": {
    "tags": []
   },
   "outputs": [
    {
     "ename": "NoSuchElementException",
     "evalue": "Message: no such element: Unable to locate element: {\"method\":\"css selector\",\"selector\":\"#password\"}\n  (Session info: chrome=116.0.5845.180)\n",
     "output_type": "error",
     "traceback": [
      "\u001b[1;31m---------------------------------------------------------------------------\u001b[0m",
      "\u001b[1;31mNoSuchElementException\u001b[0m                    Traceback (most recent call last)",
      "Cell \u001b[1;32mIn[16], line 2\u001b[0m\n\u001b[0;32m      1\u001b[0m element_path \u001b[38;5;241m=\u001b[39m \u001b[38;5;124m'\u001b[39m\u001b[38;5;124m#password\u001b[39m\u001b[38;5;124m'\u001b[39m\n\u001b[1;32m----> 2\u001b[0m password_field \u001b[38;5;241m=\u001b[39m browser\u001b[38;5;241m.\u001b[39mfind_element_by_css_selector(element_path)\n\u001b[0;32m      3\u001b[0m password_field\u001b[38;5;241m.\u001b[39msend_keys(\u001b[38;5;124m'\u001b[39m\u001b[38;5;124m'\u001b[39m)\n",
      "File \u001b[1;32m~\\anaconda3\\Lib\\site-packages\\selenium\\webdriver\\remote\\webdriver.py:598\u001b[0m, in \u001b[0;36mWebDriver.find_element_by_css_selector\u001b[1;34m(self, css_selector)\u001b[0m\n\u001b[0;32m    582\u001b[0m \u001b[38;5;28;01mdef\u001b[39;00m \u001b[38;5;21mfind_element_by_css_selector\u001b[39m(\u001b[38;5;28mself\u001b[39m, css_selector):\n\u001b[0;32m    583\u001b[0m \u001b[38;5;250m    \u001b[39m\u001b[38;5;124;03m\"\"\"\u001b[39;00m\n\u001b[0;32m    584\u001b[0m \u001b[38;5;124;03m    Finds an element by css selector.\u001b[39;00m\n\u001b[0;32m    585\u001b[0m \n\u001b[1;32m   (...)\u001b[0m\n\u001b[0;32m    596\u001b[0m \u001b[38;5;124;03m        element = driver.find_element_by_css_selector('#foo')\u001b[39;00m\n\u001b[0;32m    597\u001b[0m \u001b[38;5;124;03m    \"\"\"\u001b[39;00m\n\u001b[1;32m--> 598\u001b[0m     \u001b[38;5;28;01mreturn\u001b[39;00m \u001b[38;5;28mself\u001b[39m\u001b[38;5;241m.\u001b[39mfind_element(by\u001b[38;5;241m=\u001b[39mBy\u001b[38;5;241m.\u001b[39mCSS_SELECTOR, value\u001b[38;5;241m=\u001b[39mcss_selector)\n",
      "File \u001b[1;32m~\\anaconda3\\Lib\\site-packages\\selenium\\webdriver\\remote\\webdriver.py:976\u001b[0m, in \u001b[0;36mWebDriver.find_element\u001b[1;34m(self, by, value)\u001b[0m\n\u001b[0;32m    974\u001b[0m         by \u001b[38;5;241m=\u001b[39m By\u001b[38;5;241m.\u001b[39mCSS_SELECTOR\n\u001b[0;32m    975\u001b[0m         value \u001b[38;5;241m=\u001b[39m \u001b[38;5;124m'\u001b[39m\u001b[38;5;124m[name=\u001b[39m\u001b[38;5;124m\"\u001b[39m\u001b[38;5;132;01m%s\u001b[39;00m\u001b[38;5;124m\"\u001b[39m\u001b[38;5;124m]\u001b[39m\u001b[38;5;124m'\u001b[39m \u001b[38;5;241m%\u001b[39m value\n\u001b[1;32m--> 976\u001b[0m \u001b[38;5;28;01mreturn\u001b[39;00m \u001b[38;5;28mself\u001b[39m\u001b[38;5;241m.\u001b[39mexecute(Command\u001b[38;5;241m.\u001b[39mFIND_ELEMENT, {\n\u001b[0;32m    977\u001b[0m     \u001b[38;5;124m'\u001b[39m\u001b[38;5;124musing\u001b[39m\u001b[38;5;124m'\u001b[39m: by,\n\u001b[0;32m    978\u001b[0m     \u001b[38;5;124m'\u001b[39m\u001b[38;5;124mvalue\u001b[39m\u001b[38;5;124m'\u001b[39m: value})[\u001b[38;5;124m'\u001b[39m\u001b[38;5;124mvalue\u001b[39m\u001b[38;5;124m'\u001b[39m]\n",
      "File \u001b[1;32m~\\anaconda3\\Lib\\site-packages\\selenium\\webdriver\\remote\\webdriver.py:321\u001b[0m, in \u001b[0;36mWebDriver.execute\u001b[1;34m(self, driver_command, params)\u001b[0m\n\u001b[0;32m    319\u001b[0m response \u001b[38;5;241m=\u001b[39m \u001b[38;5;28mself\u001b[39m\u001b[38;5;241m.\u001b[39mcommand_executor\u001b[38;5;241m.\u001b[39mexecute(driver_command, params)\n\u001b[0;32m    320\u001b[0m \u001b[38;5;28;01mif\u001b[39;00m response:\n\u001b[1;32m--> 321\u001b[0m     \u001b[38;5;28mself\u001b[39m\u001b[38;5;241m.\u001b[39merror_handler\u001b[38;5;241m.\u001b[39mcheck_response(response)\n\u001b[0;32m    322\u001b[0m     response[\u001b[38;5;124m'\u001b[39m\u001b[38;5;124mvalue\u001b[39m\u001b[38;5;124m'\u001b[39m] \u001b[38;5;241m=\u001b[39m \u001b[38;5;28mself\u001b[39m\u001b[38;5;241m.\u001b[39m_unwrap_value(\n\u001b[0;32m    323\u001b[0m         response\u001b[38;5;241m.\u001b[39mget(\u001b[38;5;124m'\u001b[39m\u001b[38;5;124mvalue\u001b[39m\u001b[38;5;124m'\u001b[39m, \u001b[38;5;28;01mNone\u001b[39;00m))\n\u001b[0;32m    324\u001b[0m     \u001b[38;5;28;01mreturn\u001b[39;00m response\n",
      "File \u001b[1;32m~\\anaconda3\\Lib\\site-packages\\selenium\\webdriver\\remote\\errorhandler.py:242\u001b[0m, in \u001b[0;36mErrorHandler.check_response\u001b[1;34m(self, response)\u001b[0m\n\u001b[0;32m    240\u001b[0m         alert_text \u001b[38;5;241m=\u001b[39m value[\u001b[38;5;124m'\u001b[39m\u001b[38;5;124malert\u001b[39m\u001b[38;5;124m'\u001b[39m]\u001b[38;5;241m.\u001b[39mget(\u001b[38;5;124m'\u001b[39m\u001b[38;5;124mtext\u001b[39m\u001b[38;5;124m'\u001b[39m)\n\u001b[0;32m    241\u001b[0m     \u001b[38;5;28;01mraise\u001b[39;00m exception_class(message, screen, stacktrace, alert_text)\n\u001b[1;32m--> 242\u001b[0m \u001b[38;5;28;01mraise\u001b[39;00m exception_class(message, screen, stacktrace)\n",
      "\u001b[1;31mNoSuchElementException\u001b[0m: Message: no such element: Unable to locate element: {\"method\":\"css selector\",\"selector\":\"#password\"}\n  (Session info: chrome=116.0.5845.180)\n"
     ]
    }
   ],
   "source": [
    "element_path = '#password'\n",
    "password_field = browser.find_element_by_css_selector(element_path)\n",
    "password_field.send_keys('')"
   ]
  },
  {
   "cell_type": "code",
   "execution_count": null,
   "id": "b2aa04e7-e983-4aeb-b6c6-4c24424995b6",
   "metadata": {
    "tags": []
   },
   "outputs": [],
   "source": [
    "element_path = 'input.btn.btn-primary.btn-block.js-sign-in-button'\n",
    "sign_button = browser.find_element_by_css_selector(element_path)\n",
    "sign_button.click()"
   ]
  },
  {
   "cell_type": "code",
   "execution_count": null,
   "id": "e3e0c9d8-802a-434c-9da1-f9201ee62531",
   "metadata": {},
   "outputs": [],
   "source": []
  }
 ],
 "metadata": {
  "kernelspec": {
   "display_name": "Python 3 (ipykernel)",
   "language": "python",
   "name": "python3"
  },
  "language_info": {
   "codemirror_mode": {
    "name": "ipython",
    "version": 3
   },
   "file_extension": ".py",
   "mimetype": "text/x-python",
   "name": "python",
   "nbconvert_exporter": "python",
   "pygments_lexer": "ipython3",
   "version": "3.11.3"
  }
 },
 "nbformat": 4,
 "nbformat_minor": 5
}
