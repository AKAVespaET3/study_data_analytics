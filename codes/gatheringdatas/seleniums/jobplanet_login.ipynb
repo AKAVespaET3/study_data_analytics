{
 "cells": [
  {
   "cell_type": "code",
   "execution_count": 1,
   "id": "1934335e-71aa-43a2-a564-f56090acdec1",
   "metadata": {
    "tags": []
   },
   "outputs": [],
   "source": [
    "from selenium import webdriver\n",
    "import time"
   ]
  },
  {
   "cell_type": "code",
   "execution_count": 2,
   "id": "439986b0-1d2a-4ae2-ba19-bd3525e884a1",
   "metadata": {
    "tags": []
   },
   "outputs": [],
   "source": [
    "# open chrome browser\n",
    "browser = webdriver.Chrome(executable_path='../../../../chromedriver.exe')"
   ]
  },
  {
   "cell_type": "markdown",
   "id": "44513b2d-644c-4b4a-a80a-7650310bffa0",
   "metadata": {},
   "source": [
    "## Login\n",
    "- user tag : #user_email\n",
    "- password tag : #user_password\n",
    "- submit button tag : fieldset > button"
   ]
  },
  {
   "cell_type": "code",
   "execution_count": 3,
   "id": "ff04357b-8d51-4ee2-ace7-b082bc0ae252",
   "metadata": {},
   "outputs": [],
   "source": [
    "#url in address window\n",
    "browser.implicitly_wait(10)\n",
    "browser.get('https://www.jobplanet.co.kr/users/sign_in?_nav=gb')\n",
    "browser.find_element_by_css_selector('#user_email').send_keys('')\n",
    "browser.find_element_by_css_selector('#user_password').send_keys('')\n",
    "browser.find_element_by_css_selector('fieldset > button').click()"
   ]
  },
  {
   "cell_type": "markdown",
   "id": "b034c3f4-c2d1-4d8c-864b-9965c2d3cdbe",
   "metadata": {},
   "source": [
    "### 검색어로 검색 (분석가)"
   ]
  },
  {
   "cell_type": "code",
   "execution_count": 4,
   "id": "5c1c016d-01be-42bf-8a9b-03978260dad4",
   "metadata": {},
   "outputs": [],
   "source": [
    "browser.implicitly_wait(10)\n",
    "search_word = 'https://www.jobplanet.co.kr/job/search?_rs_act=index&_rs_con=search&_rs_element=see_more_job_postings_top&q=%EB%B6%84%EC%84%9D%EA%B0%80'\n",
    "browser.get(search_word)"
   ]
  },
  {
   "cell_type": "code",
   "execution_count": 5,
   "id": "ebf21f69-34e9-42f8-974e-432a4e493431",
   "metadata": {
    "tags": []
   },
   "outputs": [],
   "source": [
    "browser.quit()"
   ]
  },
  {
   "cell_type": "code",
   "execution_count": null,
   "id": "21522a35-8028-4869-a7cd-66ce05fb4137",
   "metadata": {},
   "outputs": [],
   "source": []
  }
 ],
 "metadata": {
  "kernelspec": {
   "display_name": "Python 3 (ipykernel)",
   "language": "python",
   "name": "python3"
  },
  "language_info": {
   "codemirror_mode": {
    "name": "ipython",
    "version": 3
   },
   "file_extension": ".py",
   "mimetype": "text/x-python",
   "name": "python",
   "nbconvert_exporter": "python",
   "pygments_lexer": "ipython3",
   "version": "3.11.3"
  }
 },
 "nbformat": 4,
 "nbformat_minor": 5
}
