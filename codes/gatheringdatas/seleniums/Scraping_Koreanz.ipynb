{
 "cells": [
  {
   "cell_type": "code",
   "execution_count": 7,
   "id": "9e190532-a7a3-4e69-84d1-6af70581543f",
   "metadata": {},
   "outputs": [],
   "source": [
    "from selenium import webdriver\n",
    "import time"
   ]
  },
  {
   "cell_type": "code",
   "execution_count": 8,
   "id": "e377608a-7b5c-4005-a3f3-e2f78f7c74dd",
   "metadata": {},
   "outputs": [],
   "source": [
    "# open chrome browser\n",
    "browser = webdriver.Chrome(executable_path='../../../../chromedriver.exe')"
   ]
  },
  {
   "cell_type": "code",
   "execution_count": 9,
   "id": "89d5f541-f2dc-4a61-ba8e-2206ff4c26f7",
   "metadata": {},
   "outputs": [],
   "source": [
    "# url in address window\n",
    "browser.get('https://a73.koreanz.xyz/bbs/board.php?bo_table=tvdrama')"
   ]
  },
  {
   "cell_type": "code",
   "execution_count": 4,
   "id": "545bdec0-21ed-4b5f-8ecd-18252eb8dd9a",
   "metadata": {},
   "outputs": [],
   "source": [
    "browser.implicitly_wait(10)"
   ]
  },
  {
   "cell_type": "markdown",
   "id": "1910940e-93ca-46f1-a435-232a2f50c155",
   "metadata": {},
   "source": [
    "#### 게시물 번호, 제목, 게시날짜, 조회수 가져오기\n",
    "- 게시물 번호 tag : li:nth-child(1) > div.wr-num.hidden-xs\n",
    "- 게시물 제목 tag : li:nth-child(1) > div.wr-subject > a\n",
    "- 게시물 날짜 tag : li:nth-child(8) > div.wr-date.hidden-xs\n",
    "- 게시물 조회수 tag : li:nth-child(1) > div.wr-hit.hidden-xs"
   ]
  },
  {
   "cell_type": "code",
   "execution_count": 11,
   "id": "8ff9e6fe-e478-4e1b-8469-9248add29785",
   "metadata": {
    "tags": []
   },
   "outputs": [
    {
     "data": {
      "text/plain": [
       "['15474', '오랫동안 당신을 기다렸습니다.13회.230906', '09.06', '3001']"
      ]
     },
     "execution_count": 11,
     "metadata": {},
     "output_type": "execute_result"
    }
   ],
   "source": [
    "title = browser.find_element_by_css_selector('li:nth-child(1) > div.wr-num.hidden-xs').text\n",
    "subject = browser.find_element_by_css_selector('li:nth-child(1) > div.wr-subject > a').text\n",
    "data = browser.find_element_by_css_selector('li:nth-child(8) > div.wr-date.hidden-xs').text\n",
    "count = browser.find_element_by_css_selector('li:nth-child(1) > div.wr-hit.hidden-xs').text\n",
    "list = [title, subject, data, count]\n",
    "list"
   ]
  },
  {
   "cell_type": "code",
   "execution_count": 12,
   "id": "2282211c-b668-48e6-82af-cb8b3d46f804",
   "metadata": {
    "tags": []
   },
   "outputs": [],
   "source": [
    "subject_click = browser.find_element_by_css_selector('li:nth-child(1) > div.wr-subject > a').click()"
   ]
  },
  {
   "cell_type": "code",
   "execution_count": 15,
   "id": "750301bd-5b95-4aa4-94bc-1fade92fe896",
   "metadata": {},
   "outputs": [
    {
     "name": "stdout",
     "output_type": "stream",
     "text": [
      "AllViewer 720p https://www.watchvid.net/?fid=5230907_003605\n"
     ]
    }
   ],
   "source": [
    "viewer_name = browser.find_element_by_css_selector('div.view-content > div > a:nth-child(1) > span').text\n",
    "viewer_link = browser.find_element_by_css_selector('div.view-content > div > a:nth-child(4)').get_attribute('href')\n",
    "print(viewer_name, viewer_link)"
   ]
  },
  {
   "cell_type": "code",
   "execution_count": 16,
   "id": "1a865931-0735-4862-97cc-5bb8ad2b383c",
   "metadata": {},
   "outputs": [],
   "source": [
    "import pandas as pd\n",
    "import pymongo as mg"
   ]
  },
  {
   "cell_type": "code",
   "execution_count": 6,
   "id": "5a274a3d-f150-44f6-9491-398dadd58709",
   "metadata": {
    "tags": []
   },
   "outputs": [],
   "source": [
    "client = mg.MongoClient(host='mongodb://localhost:27017')\n",
    "database = client['study_data_analytics']\n",
    "collection = database['koreanz_list']\n",
    "\n",
    "\n",
    "for i in range(len())\n",
    "    "
   ]
  },
  {
   "cell_type": "code",
   "execution_count": null,
   "id": "695342c5-98d2-4156-a1ac-5bf3da6635c6",
   "metadata": {
    "tags": []
   },
   "outputs": [],
   "source": [
    "browser.quit()"
   ]
  },
  {
   "cell_type": "code",
   "execution_count": null,
   "id": "f8fdbbaf-0935-46c1-87e9-ed0986d33419",
   "metadata": {},
   "outputs": [],
   "source": []
  },
  {
   "cell_type": "code",
   "execution_count": null,
   "id": "2ec1fb2c-f57e-4802-b21b-f6806391b89c",
   "metadata": {},
   "outputs": [],
   "source": []
  }
 ],
 "metadata": {
  "kernelspec": {
   "display_name": "Python 3 (ipykernel)",
   "language": "python",
   "name": "python3"
  },
  "language_info": {
   "codemirror_mode": {
    "name": "ipython",
    "version": 3
   },
   "file_extension": ".py",
   "mimetype": "text/x-python",
   "name": "python",
   "nbconvert_exporter": "python",
   "pygments_lexer": "ipython3",
   "version": "3.11.3"
  }
 },
 "nbformat": 4,
 "nbformat_minor": 5
}
