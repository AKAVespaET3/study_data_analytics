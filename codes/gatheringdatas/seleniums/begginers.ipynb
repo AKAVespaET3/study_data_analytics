{
 "cells": [
  {
   "cell_type": "code",
   "execution_count": 3,
   "id": "1934335e-71aa-43a2-a564-f56090acdec1",
   "metadata": {
    "tags": []
   },
   "outputs": [],
   "source": [
    "from selenium import webdriver"
   ]
  },
  {
   "cell_type": "code",
   "execution_count": 4,
   "id": "439986b0-1d2a-4ae2-ba19-bd3525e884a1",
   "metadata": {
    "tags": []
   },
   "outputs": [],
   "source": [
    "# open chrome browser\n",
    "browser = webdriver.Chrome(executable_path='../../../../chromedriver.exe')"
   ]
  },
  {
   "cell_type": "code",
   "execution_count": 5,
   "id": "ff04357b-8d51-4ee2-ace7-b082bc0ae252",
   "metadata": {},
   "outputs": [],
   "source": [
    "#url in address window\n",
    "browser.get('https://www.w3schools.com')"
   ]
  },
  {
   "cell_type": "code",
   "execution_count": 8,
   "id": "ebf21f69-34e9-42f8-974e-432a4e493431",
   "metadata": {
    "tags": []
   },
   "outputs": [
    {
     "data": {
      "text/plain": [
       "True"
      ]
     },
     "execution_count": 8,
     "metadata": {},
     "output_type": "execute_result"
    }
   ],
   "source": [
    "browser.save_screenshot('./begginers.png')"
   ]
  },
  {
   "cell_type": "code",
   "execution_count": null,
   "id": "21522a35-8028-4869-a7cd-66ce05fb4137",
   "metadata": {},
   "outputs": [],
   "source": []
  }
 ],
 "metadata": {
  "kernelspec": {
   "display_name": "Python 3 (ipykernel)",
   "language": "python",
   "name": "python3"
  },
  "language_info": {
   "codemirror_mode": {
    "name": "ipython",
    "version": 3
   },
   "file_extension": ".py",
   "mimetype": "text/x-python",
   "name": "python",
   "nbconvert_exporter": "python",
   "pygments_lexer": "ipython3",
   "version": "3.11.3"
  }
 },
 "nbformat": 4,
 "nbformat_minor": 5
}
