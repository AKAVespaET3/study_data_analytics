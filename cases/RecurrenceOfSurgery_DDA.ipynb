{
 "cells": [
  {
   "cell_type": "code",
   "execution_count": 1,
   "id": "4dd8d505-d229-4799-b52a-3707cdcad1f8",
   "metadata": {
    "tags": []
   },
   "outputs": [],
   "source": [
    "import pymongo as mg\n",
    "import pandas as pd"
   ]
  },
  {
   "cell_type": "code",
   "execution_count": 2,
   "id": "b491f7af-3e9a-4788-87a9-f25f939753b7",
   "metadata": {
    "tags": []
   },
   "outputs": [],
   "source": [
    "client = mg.MongoClient(host='mongodb://localhost:27017')"
   ]
  },
  {
   "cell_type": "code",
   "execution_count": 3,
   "id": "03f457e9-56e1-4b73-be99-0609867feeb7",
   "metadata": {
    "tags": []
   },
   "outputs": [],
   "source": [
    "database = client['db_medicals']"
   ]
  },
  {
   "cell_type": "code",
   "execution_count": 4,
   "id": "a2ec6ac1-dffd-49cc-86ae-29be2a67609d",
   "metadata": {
    "tags": []
   },
   "outputs": [],
   "source": [
    "collection = database['RecurrenceOfSurgery']"
   ]
  },
  {
   "cell_type": "code",
   "execution_count": 5,
   "id": "cc8a8a97-bd07-43c9-b0fe-bc8ed2a43e04",
   "metadata": {
    "tags": []
   },
   "outputs": [],
   "source": [
    "cursor = collection.find({})\n",
    "data_list = cursor"
   ]
  },
  {
   "cell_type": "code",
   "execution_count": 6,
   "id": "10b9faac-48ab-4cda-8151-c6fea10e5c88",
   "metadata": {
    "tags": []
   },
   "outputs": [
    {
     "data": {
      "text/html": [
       "<div>\n",
       "<style scoped>\n",
       "    .dataframe tbody tr th:only-of-type {\n",
       "        vertical-align: middle;\n",
       "    }\n",
       "\n",
       "    .dataframe tbody tr th {\n",
       "        vertical-align: top;\n",
       "    }\n",
       "\n",
       "    .dataframe thead th {\n",
       "        text-align: right;\n",
       "    }\n",
       "</style>\n",
       "<table border=\"1\" class=\"dataframe\">\n",
       "  <thead>\n",
       "    <tr style=\"text-align: right;\">\n",
       "      <th></th>\n",
       "      <th>_id</th>\n",
       "      <th>Unnamed: 0</th>\n",
       "      <th>환자ID</th>\n",
       "      <th>Large Lymphocyte</th>\n",
       "      <th>Location of herniation</th>\n",
       "      <th>ODI</th>\n",
       "      <th>가족력</th>\n",
       "      <th>간질성폐질환</th>\n",
       "      <th>고혈압여부</th>\n",
       "      <th>과거수술횟수</th>\n",
       "      <th>...</th>\n",
       "      <th>Modic change</th>\n",
       "      <th>PI</th>\n",
       "      <th>PT</th>\n",
       "      <th>Seg Angle(raw)</th>\n",
       "      <th>Vaccum disc</th>\n",
       "      <th>골밀도</th>\n",
       "      <th>디스크단면적</th>\n",
       "      <th>디스크위치</th>\n",
       "      <th>척추이동척도</th>\n",
       "      <th>척추전방위증</th>\n",
       "    </tr>\n",
       "  </thead>\n",
       "  <tbody>\n",
       "    <tr>\n",
       "      <th>0</th>\n",
       "      <td>64d338fcd06f56ad1c37ea13</td>\n",
       "      <td>0</td>\n",
       "      <td>1PT</td>\n",
       "      <td>22.8</td>\n",
       "      <td>3</td>\n",
       "      <td>51.0</td>\n",
       "      <td>0.0</td>\n",
       "      <td>0</td>\n",
       "      <td>0</td>\n",
       "      <td>0</td>\n",
       "      <td>...</td>\n",
       "      <td>3</td>\n",
       "      <td>51.6</td>\n",
       "      <td>36.6</td>\n",
       "      <td>14.4</td>\n",
       "      <td>0</td>\n",
       "      <td>-1.01</td>\n",
       "      <td>2048.50</td>\n",
       "      <td>4</td>\n",
       "      <td>Down</td>\n",
       "      <td>0</td>\n",
       "    </tr>\n",
       "    <tr>\n",
       "      <th>1</th>\n",
       "      <td>64d338fcd06f56ad1c37ea14</td>\n",
       "      <td>1</td>\n",
       "      <td>2PT</td>\n",
       "      <td>44.9</td>\n",
       "      <td>4</td>\n",
       "      <td>26.0</td>\n",
       "      <td>0.0</td>\n",
       "      <td>0</td>\n",
       "      <td>0</td>\n",
       "      <td>0</td>\n",
       "      <td>...</td>\n",
       "      <td>0</td>\n",
       "      <td>40.8</td>\n",
       "      <td>7.2</td>\n",
       "      <td>17.8</td>\n",
       "      <td>0</td>\n",
       "      <td>-1.14</td>\n",
       "      <td>1753.10</td>\n",
       "      <td>4</td>\n",
       "      <td>Up</td>\n",
       "      <td>0</td>\n",
       "    </tr>\n",
       "    <tr>\n",
       "      <th>2</th>\n",
       "      <td>64d338fcd06f56ad1c37ea15</td>\n",
       "      <td>2</td>\n",
       "      <td>3PT</td>\n",
       "      <td>53.0</td>\n",
       "      <td>3</td>\n",
       "      <td>NaN</td>\n",
       "      <td>0.0</td>\n",
       "      <td>0</td>\n",
       "      <td>0</td>\n",
       "      <td>1</td>\n",
       "      <td>...</td>\n",
       "      <td>0</td>\n",
       "      <td>67.5</td>\n",
       "      <td>27.3</td>\n",
       "      <td>10.2</td>\n",
       "      <td>0</td>\n",
       "      <td>-1.77</td>\n",
       "      <td>1749.00</td>\n",
       "      <td>4</td>\n",
       "      <td>Down</td>\n",
       "      <td>0</td>\n",
       "    </tr>\n",
       "    <tr>\n",
       "      <th>3</th>\n",
       "      <td>64d338fcd06f56ad1c37ea16</td>\n",
       "      <td>3</td>\n",
       "      <td>4PT</td>\n",
       "      <td>54.7</td>\n",
       "      <td>4</td>\n",
       "      <td>18.0</td>\n",
       "      <td>0.0</td>\n",
       "      <td>0</td>\n",
       "      <td>1</td>\n",
       "      <td>0</td>\n",
       "      <td>...</td>\n",
       "      <td>0</td>\n",
       "      <td>49.2</td>\n",
       "      <td>18.7</td>\n",
       "      <td>19.9</td>\n",
       "      <td>0</td>\n",
       "      <td>-1.58</td>\n",
       "      <td>1796.20</td>\n",
       "      <td>4</td>\n",
       "      <td>Down</td>\n",
       "      <td>0</td>\n",
       "    </tr>\n",
       "    <tr>\n",
       "      <th>4</th>\n",
       "      <td>64d338fcd06f56ad1c37ea17</td>\n",
       "      <td>4</td>\n",
       "      <td>5PT</td>\n",
       "      <td>53.8</td>\n",
       "      <td>4</td>\n",
       "      <td>NaN</td>\n",
       "      <td>0.0</td>\n",
       "      <td>0</td>\n",
       "      <td>1</td>\n",
       "      <td>0</td>\n",
       "      <td>...</td>\n",
       "      <td>0</td>\n",
       "      <td>58.8</td>\n",
       "      <td>14.7</td>\n",
       "      <td>5.2</td>\n",
       "      <td>0</td>\n",
       "      <td>-0.79</td>\n",
       "      <td>2021.48</td>\n",
       "      <td>4</td>\n",
       "      <td>Up</td>\n",
       "      <td>0</td>\n",
       "    </tr>\n",
       "  </tbody>\n",
       "</table>\n",
       "<p>5 rows × 53 columns</p>\n",
       "</div>"
      ],
      "text/plain": [
       "                        _id  Unnamed: 0 환자ID  Large Lymphocyte  \\\n",
       "0  64d338fcd06f56ad1c37ea13           0  1PT              22.8   \n",
       "1  64d338fcd06f56ad1c37ea14           1  2PT              44.9   \n",
       "2  64d338fcd06f56ad1c37ea15           2  3PT              53.0   \n",
       "3  64d338fcd06f56ad1c37ea16           3  4PT              54.7   \n",
       "4  64d338fcd06f56ad1c37ea17           4  5PT              53.8   \n",
       "\n",
       "   Location of herniation   ODI  가족력  간질성폐질환  고혈압여부  과거수술횟수  ...  \\\n",
       "0                       3  51.0  0.0       0      0       0  ...   \n",
       "1                       4  26.0  0.0       0      0       0  ...   \n",
       "2                       3   NaN  0.0       0      0       1  ...   \n",
       "3                       4  18.0  0.0       0      1       0  ...   \n",
       "4                       4   NaN  0.0       0      1       0  ...   \n",
       "\n",
       "   Modic change    PI    PT  Seg Angle(raw)  Vaccum disc   골밀도   디스크단면적  \\\n",
       "0             3  51.6  36.6            14.4            0 -1.01  2048.50   \n",
       "1             0  40.8   7.2            17.8            0 -1.14  1753.10   \n",
       "2             0  67.5  27.3            10.2            0 -1.77  1749.00   \n",
       "3             0  49.2  18.7            19.9            0 -1.58  1796.20   \n",
       "4             0  58.8  14.7             5.2            0 -0.79  2021.48   \n",
       "\n",
       "   디스크위치  척추이동척도  척추전방위증  \n",
       "0      4    Down       0  \n",
       "1      4      Up       0  \n",
       "2      4    Down       0  \n",
       "3      4    Down       0  \n",
       "4      4      Up       0  \n",
       "\n",
       "[5 rows x 53 columns]"
      ]
     },
     "execution_count": 6,
     "metadata": {},
     "output_type": "execute_result"
    }
   ],
   "source": [
    "df_ROS = pd.DataFrame(data_list)\n",
    "df_ROS.head()"
   ]
  },
  {
   "cell_type": "code",
   "execution_count": 7,
   "id": "e74ce642-a98f-40ce-99b5-321e080b1486",
   "metadata": {
    "tags": []
   },
   "outputs": [
    {
     "name": "stdout",
     "output_type": "stream",
     "text": [
      "<class 'pandas.core.frame.DataFrame'>\n",
      "RangeIndex: 1894 entries, 0 to 1893\n",
      "Data columns (total 53 columns):\n",
      " #   Column                  Non-Null Count  Dtype  \n",
      "---  ------                  --------------  -----  \n",
      " 0   _id                     1894 non-null   object \n",
      " 1   Unnamed: 0              1894 non-null   int64  \n",
      " 2   환자ID                    1894 non-null   object \n",
      " 3   Large Lymphocyte        1894 non-null   float64\n",
      " 4   Location of herniation  1894 non-null   int64  \n",
      " 5   ODI                     462 non-null    float64\n",
      " 6   가족력                     1843 non-null   float64\n",
      " 7   간질성폐질환                  1894 non-null   int64  \n",
      " 8   고혈압여부                   1894 non-null   int64  \n",
      " 9   과거수술횟수                  1894 non-null   int64  \n",
      " 10  당뇨여부                    1894 non-null   int64  \n",
      " 11  말초동맥질환여부                1894 non-null   int64  \n",
      " 12  빈혈여부                    1894 non-null   int64  \n",
      " 13  성별                      1894 non-null   int64  \n",
      " 14  스테로이드치료                 1894 non-null   int64  \n",
      " 15  신부전여부                   1894 non-null   int64  \n",
      " 16  신장                      1894 non-null   int64  \n",
      " 17  심혈관질환                   1894 non-null   int64  \n",
      " 18  암발병여부                   1894 non-null   int64  \n",
      " 19  연령                      1894 non-null   int64  \n",
      " 20  우울증여부                   1894 non-null   int64  \n",
      " 21  입원기간                    1894 non-null   int64  \n",
      " 22  입원일자                    1894 non-null   int64  \n",
      " 23  종양진행여부                  1894 non-null   int64  \n",
      " 24  직업                      1479 non-null   object \n",
      " 25  체중                      1894 non-null   float64\n",
      " 26  퇴원일자                    1894 non-null   int64  \n",
      " 27  헤모글로빈수치                 1893 non-null   float64\n",
      " 28  혈전합병증여부                 1894 non-null   int64  \n",
      " 29  환자통증정도                  1894 non-null   int64  \n",
      " 30  흡연여부                    1894 non-null   int64  \n",
      " 31  통증기간(월)                 1890 non-null   float64\n",
      " 32  수술기법                    1813 non-null   object \n",
      " 33  수술시간                    1840 non-null   float64\n",
      " 34  수술실패여부                  1894 non-null   int64  \n",
      " 35  수술일자                    1894 non-null   int64  \n",
      " 36  재발여부                    1894 non-null   int64  \n",
      " 37  혈액형                     1894 non-null   object \n",
      " 38  전방디스크높이(mm)             1894 non-null   float64\n",
      " 39  후방디스크높이(mm)             1894 non-null   float64\n",
      " 40  지방축적도                   1891 non-null   float64\n",
      " 41  Instability             1894 non-null   int64  \n",
      " 42  MF + ES                 1894 non-null   float64\n",
      " 43  Modic change            1894 non-null   int64  \n",
      " 44  PI                      1890 non-null   float64\n",
      " 45  PT                      1890 non-null   float64\n",
      " 46  Seg Angle(raw)          1893 non-null   float64\n",
      " 47  Vaccum disc             1894 non-null   int64  \n",
      " 48  골밀도                     998 non-null    float64\n",
      " 49  디스크단면적                  1893 non-null   float64\n",
      " 50  디스크위치                   1894 non-null   int64  \n",
      " 51  척추이동척도                  1894 non-null   object \n",
      " 52  척추전방위증                  1894 non-null   int64  \n",
      "dtypes: float64(16), int64(31), object(6)\n",
      "memory usage: 784.4+ KB\n"
     ]
    }
   ],
   "source": [
    "df_ROS.info()"
   ]
  },
  {
   "cell_type": "code",
   "execution_count": 10,
   "id": "95e0cc08-b5d2-46e7-bf60-5b054044c249",
   "metadata": {
    "tags": []
   },
   "outputs": [
    {
     "data": {
      "text/plain": [
       "Index(['_id', 'Unnamed: 0', '환자ID', 'Large Lymphocyte',\n",
       "       'Location of herniation', 'ODI', '가족력', '간질성폐질환', '고혈압여부', '과거수술횟수',\n",
       "       '당뇨여부', '말초동맥질환여부', '빈혈여부', '성별', '스테로이드치료', '신부전여부', '신장', '심혈관질환',\n",
       "       '암발병여부', '연령', '우울증여부', '입원기간', '입원일자', '종양진행여부', '직업', '체중', '퇴원일자',\n",
       "       '헤모글로빈수치', '혈전합병증여부', '환자통증정도', '흡연여부', '통증기간(월)', '수술기법', '수술시간',\n",
       "       '수술실패여부', '수술일자', '재발여부', '혈액형', '전방디스크높이(mm)', '후방디스크높이(mm)', '지방축적도',\n",
       "       'Instability', 'MF + ES', 'Modic change', 'PI', 'PT', 'Seg Angle(raw)',\n",
       "       'Vaccum disc', '골밀도', '디스크단면적', '디스크위치', '척추이동척도', '척추전방위증'],\n",
       "      dtype='object')"
      ]
     },
     "execution_count": 10,
     "metadata": {},
     "output_type": "execute_result"
    }
   ],
   "source": [
    "df_ROS.columns"
   ]
  },
  {
   "cell_type": "code",
   "execution_count": 12,
   "id": "d101901e-6ed0-493d-9c0d-131fa1194d1f",
   "metadata": {
    "tags": []
   },
   "outputs": [
    {
     "data": {
      "text/plain": [
       "_id                       1894\n",
       "Unnamed: 0                1894\n",
       "환자ID                      1894\n",
       "Large Lymphocyte          1894\n",
       "Location of herniation    1894\n",
       "ODI                        462\n",
       "가족력                       1843\n",
       "간질성폐질환                    1894\n",
       "고혈압여부                     1894\n",
       "과거수술횟수                    1894\n",
       "당뇨여부                      1894\n",
       "말초동맥질환여부                  1894\n",
       "빈혈여부                      1894\n",
       "성별                        1894\n",
       "스테로이드치료                   1894\n",
       "신부전여부                     1894\n",
       "신장                        1894\n",
       "심혈관질환                     1894\n",
       "암발병여부                     1894\n",
       "연령                        1894\n",
       "우울증여부                     1894\n",
       "입원기간                      1894\n",
       "입원일자                      1894\n",
       "종양진행여부                    1894\n",
       "직업                        1479\n",
       "체중                        1894\n",
       "퇴원일자                      1894\n",
       "헤모글로빈수치                   1893\n",
       "혈전합병증여부                   1894\n",
       "환자통증정도                    1894\n",
       "흡연여부                      1894\n",
       "통증기간(월)                   1890\n",
       "수술기법                      1813\n",
       "수술시간                      1840\n",
       "수술실패여부                    1894\n",
       "수술일자                      1894\n",
       "재발여부                      1894\n",
       "혈액형                       1894\n",
       "전방디스크높이(mm)               1894\n",
       "후방디스크높이(mm)               1894\n",
       "지방축적도                     1891\n",
       "Instability               1894\n",
       "MF + ES                   1894\n",
       "Modic change              1894\n",
       "PI                        1890\n",
       "PT                        1890\n",
       "Seg Angle(raw)            1893\n",
       "Vaccum disc               1894\n",
       "골밀도                        998\n",
       "디스크단면적                    1893\n",
       "디스크위치                     1894\n",
       "척추이동척도                    1894\n",
       "척추전방위증                    1894\n",
       "dtype: int64"
      ]
     },
     "execution_count": 12,
     "metadata": {},
     "output_type": "execute_result"
    }
   ],
   "source": [
    "df_ROS.count()"
   ]
  },
  {
   "cell_type": "code",
   "execution_count": 13,
   "id": "a973ecf1-f25d-434e-960d-a19a68791ac0",
   "metadata": {
    "tags": []
   },
   "outputs": [
    {
     "data": {
      "text/html": [
       "<div>\n",
       "<style scoped>\n",
       "    .dataframe tbody tr th:only-of-type {\n",
       "        vertical-align: middle;\n",
       "    }\n",
       "\n",
       "    .dataframe tbody tr th {\n",
       "        vertical-align: top;\n",
       "    }\n",
       "\n",
       "    .dataframe thead th {\n",
       "        text-align: right;\n",
       "    }\n",
       "</style>\n",
       "<table border=\"1\" class=\"dataframe\">\n",
       "  <thead>\n",
       "    <tr style=\"text-align: right;\">\n",
       "      <th></th>\n",
       "      <th>RN_INDI</th>\n",
       "      <th>BTH_YYYY</th>\n",
       "      <th>DTH_YYYYMM</th>\n",
       "      <th>COD1</th>\n",
       "      <th>COD2</th>\n",
       "    </tr>\n",
       "  </thead>\n",
       "  <tbody>\n",
       "    <tr>\n",
       "      <th>0</th>\n",
       "      <td>294364</td>\n",
       "      <td>1921LE</td>\n",
       "      <td>200707.0</td>\n",
       "      <td>T08-T14</td>\n",
       "      <td>W00-W19</td>\n",
       "    </tr>\n",
       "    <tr>\n",
       "      <th>1</th>\n",
       "      <td>646257</td>\n",
       "      <td>1921LE</td>\n",
       "      <td>200805.0</td>\n",
       "      <td>A15-A19</td>\n",
       "      <td>NaN</td>\n",
       "    </tr>\n",
       "  </tbody>\n",
       "</table>\n",
       "</div>"
      ],
      "text/plain": [
       "   RN_INDI BTH_YYYY  DTH_YYYYMM     COD1     COD2\n",
       "0   294364   1921LE    200707.0  T08-T14  W00-W19\n",
       "1   646257   1921LE    200805.0  A15-A19      NaN"
      ]
     },
     "execution_count": 13,
     "metadata": {},
     "output_type": "execute_result"
    }
   ],
   "source": [
    "df_BND_drops = df_BND.drop(columns=['_id','Unnamed: 0','환자ID', '입원기간', '입원일자',])\n",
    "df_BND_drops.head(2)"
   ]
  },
  {
   "cell_type": "code",
   "execution_count": 14,
   "id": "a5fabf41-1d86-4bfb-a1d5-5b0657e21dc3",
   "metadata": {
    "tags": []
   },
   "outputs": [
    {
     "name": "stdout",
     "output_type": "stream",
     "text": [
      "<class 'pandas.core.frame.DataFrame'>\n",
      "RangeIndex: 1000 entries, 0 to 999\n",
      "Data columns (total 5 columns):\n",
      " #   Column      Non-Null Count  Dtype  \n",
      "---  ------      --------------  -----  \n",
      " 0   RN_INDI     1000 non-null   int64  \n",
      " 1   BTH_YYYY    1000 non-null   object \n",
      " 2   DTH_YYYYMM  71 non-null     float64\n",
      " 3   COD1        60 non-null     object \n",
      " 4   COD2        7 non-null      object \n",
      "dtypes: float64(1), int64(1), object(3)\n",
      "memory usage: 39.2+ KB\n"
     ]
    }
   ],
   "source": [
    "df_BND_drops.info()"
   ]
  },
  {
   "cell_type": "code",
   "execution_count": 16,
   "id": "c2ef067b-1e2f-4c07-983c-d6ea6d94631e",
   "metadata": {
    "tags": []
   },
   "outputs": [
    {
     "data": {
      "text/html": [
       "<div>\n",
       "<style scoped>\n",
       "    .dataframe tbody tr th:only-of-type {\n",
       "        vertical-align: middle;\n",
       "    }\n",
       "\n",
       "    .dataframe tbody tr th {\n",
       "        vertical-align: top;\n",
       "    }\n",
       "\n",
       "    .dataframe thead th {\n",
       "        text-align: right;\n",
       "    }\n",
       "</style>\n",
       "<table border=\"1\" class=\"dataframe\">\n",
       "  <thead>\n",
       "    <tr style=\"text-align: right;\">\n",
       "      <th></th>\n",
       "      <th>RN_INDI</th>\n",
       "      <th>DTH_YYYYMM</th>\n",
       "    </tr>\n",
       "  </thead>\n",
       "  <tbody>\n",
       "    <tr>\n",
       "      <th>count</th>\n",
       "      <td>1.000000e+03</td>\n",
       "      <td>71.000000</td>\n",
       "    </tr>\n",
       "    <tr>\n",
       "      <th>mean</th>\n",
       "      <td>6.404133e+05</td>\n",
       "      <td>201471.873239</td>\n",
       "    </tr>\n",
       "    <tr>\n",
       "      <th>std</th>\n",
       "      <td>5.241253e+05</td>\n",
       "      <td>432.203819</td>\n",
       "    </tr>\n",
       "    <tr>\n",
       "      <th>min</th>\n",
       "      <td>1.433000e+03</td>\n",
       "      <td>200707.000000</td>\n",
       "    </tr>\n",
       "    <tr>\n",
       "      <th>25%</th>\n",
       "      <td>2.812005e+05</td>\n",
       "      <td>201104.000000</td>\n",
       "    </tr>\n",
       "    <tr>\n",
       "      <th>50%</th>\n",
       "      <td>5.499230e+05</td>\n",
       "      <td>201508.000000</td>\n",
       "    </tr>\n",
       "    <tr>\n",
       "      <th>75%</th>\n",
       "      <td>8.177570e+05</td>\n",
       "      <td>201904.500000</td>\n",
       "    </tr>\n",
       "    <tr>\n",
       "      <th>max</th>\n",
       "      <td>3.000758e+06</td>\n",
       "      <td>202105.000000</td>\n",
       "    </tr>\n",
       "  </tbody>\n",
       "</table>\n",
       "</div>"
      ],
      "text/plain": [
       "            RN_INDI     DTH_YYYYMM\n",
       "count  1.000000e+03      71.000000\n",
       "mean   6.404133e+05  201471.873239\n",
       "std    5.241253e+05     432.203819\n",
       "min    1.433000e+03  200707.000000\n",
       "25%    2.812005e+05  201104.000000\n",
       "50%    5.499230e+05  201508.000000\n",
       "75%    8.177570e+05  201904.500000\n",
       "max    3.000758e+06  202105.000000"
      ]
     },
     "execution_count": 16,
     "metadata": {},
     "output_type": "execute_result"
    }
   ],
   "source": [
    "df_BND_drops.describe()"
   ]
  },
  {
   "cell_type": "code",
   "execution_count": 17,
   "id": "9caec42c-d818-44ce-bee2-34a03ede9ab0",
   "metadata": {
    "tags": []
   },
   "outputs": [
    {
     "data": {
      "text/html": [
       "<div>\n",
       "<style scoped>\n",
       "    .dataframe tbody tr th:only-of-type {\n",
       "        vertical-align: middle;\n",
       "    }\n",
       "\n",
       "    .dataframe tbody tr th {\n",
       "        vertical-align: top;\n",
       "    }\n",
       "\n",
       "    .dataframe thead th {\n",
       "        text-align: right;\n",
       "    }\n",
       "</style>\n",
       "<table border=\"1\" class=\"dataframe\">\n",
       "  <thead>\n",
       "    <tr style=\"text-align: right;\">\n",
       "      <th></th>\n",
       "      <th>BTH_YYYY</th>\n",
       "      <th>COD1</th>\n",
       "      <th>COD2</th>\n",
       "    </tr>\n",
       "  </thead>\n",
       "  <tbody>\n",
       "    <tr>\n",
       "      <th>count</th>\n",
       "      <td>1000</td>\n",
       "      <td>60</td>\n",
       "      <td>7</td>\n",
       "    </tr>\n",
       "    <tr>\n",
       "      <th>unique</th>\n",
       "      <td>95</td>\n",
       "      <td>42</td>\n",
       "      <td>6</td>\n",
       "    </tr>\n",
       "    <tr>\n",
       "      <th>top</th>\n",
       "      <td>1968</td>\n",
       "      <td>C34</td>\n",
       "      <td>W75-W84</td>\n",
       "    </tr>\n",
       "    <tr>\n",
       "      <th>freq</th>\n",
       "      <td>24</td>\n",
       "      <td>4</td>\n",
       "      <td>2</td>\n",
       "    </tr>\n",
       "  </tbody>\n",
       "</table>\n",
       "</div>"
      ],
      "text/plain": [
       "        BTH_YYYY COD1     COD2\n",
       "count       1000   60        7\n",
       "unique        95   42        6\n",
       "top         1968  C34  W75-W84\n",
       "freq          24    4        2"
      ]
     },
     "execution_count": 17,
     "metadata": {},
     "output_type": "execute_result"
    }
   ],
   "source": [
    "df_BND_drops.describe(include=object)"
   ]
  },
  {
   "cell_type": "code",
   "execution_count": 18,
   "id": "d470294a-5541-44c4-b113-8f078798994a",
   "metadata": {
    "tags": []
   },
   "outputs": [
    {
     "data": {
      "text/plain": [
       "RN_INDI       1000\n",
       "BTH_YYYY      1000\n",
       "DTH_YYYYMM      71\n",
       "COD1            60\n",
       "COD2             7\n",
       "dtype: int64"
      ]
     },
     "execution_count": 18,
     "metadata": {},
     "output_type": "execute_result"
    }
   ],
   "source": [
    "df_BND_drops.count()"
   ]
  },
  {
   "cell_type": "code",
   "execution_count": 19,
   "id": "3d9780b5-1e09-4198-8557-4bb68d5abd20",
   "metadata": {
    "tags": []
   },
   "outputs": [
    {
     "data": {
      "text/plain": [
       "RN_INDI  BTH_YYYY  DTH_YYYYMM  COD1     COD2   \n",
       "60164    1932      201910.0    T51-T65  X00-X09    1\n",
       "294364   1921LE    200707.0    T08-T14  W00-W19    1\n",
       "459355   1947      200902.0    S00-S09  V01-V09    1\n",
       "466622   1938      201409.0    T15-T19  W75-W84    1\n",
       "616301   1955      201012.0    T66-T78  X60-X84    1\n",
       "678141   1939      201210.0    T15-T19  W75-W84    1\n",
       "863928   1934      200812.0    T08-T14  V20-V29    1\n",
       "dtype: int64"
      ]
     },
     "execution_count": 19,
     "metadata": {},
     "output_type": "execute_result"
    }
   ],
   "source": [
    "df_BND_drops.value_counts()"
   ]
  },
  {
   "cell_type": "code",
   "execution_count": 20,
   "id": "13ad9609-a9fa-407b-bacd-b9118929f814",
   "metadata": {
    "tags": []
   },
   "outputs": [
    {
     "data": {
      "text/plain": [
       "1968    24\n",
       "1960    24\n",
       "1969    21\n",
       "1967    21\n",
       "1988    19\n",
       "        ..\n",
       "1929     1\n",
       "1925     1\n",
       "1924     1\n",
       "1923     1\n",
       "1922     1\n",
       "Name: BTH_YYYY, Length: 95, dtype: int64"
      ]
     },
     "execution_count": 20,
     "metadata": {},
     "output_type": "execute_result"
    }
   ],
   "source": [
    "df_BND_drops['BTH_YYYY'].value_counts()"
   ]
  },
  {
   "cell_type": "code",
   "execution_count": 22,
   "id": "f3ae70d1-720c-4989-8468-d5993a9d9784",
   "metadata": {
    "tags": []
   },
   "outputs": [
    {
     "data": {
      "text/plain": [
       "array(['1921LE', 1922, 1923, 1924, 1925, 1926, 1927, 1928, 1929, 1930,\n",
       "       1931, 1932, 1933, 1934, 1935, 1936, 1937, 1938, 1939, 1940, 1941,\n",
       "       1942, 1943, 1944, 1945, 1946, 1947, 1948, 1949, 1950, 1951, 1952,\n",
       "       1953, 1954, 1955, 1956, 1957, 1958, 1959, 1960, 1961, 1962, 1963,\n",
       "       1964, 1965, 1966, 1967, 1968, 1969, 1970, 1971, 1972, 1973, 1974,\n",
       "       1975, 1976, 1977, 1978, 1979, 1980, 1981, 1982, 1983, 1984, 1985,\n",
       "       1986, 1987, 1988, 1989, 1990, 1991, 1992, 1993, 1994, 1995, 1996,\n",
       "       1997, 1998, 1999, 2000, 2001, 2002, 2003, 2004, 2005, 2006, 2007,\n",
       "       2008, 2009, 2010, 2011, 2012, 2013, 2014, 2015], dtype=object)"
      ]
     },
     "execution_count": 22,
     "metadata": {},
     "output_type": "execute_result"
    }
   ],
   "source": [
    "df_BND_drops['BTH_YYYY'].unique()"
   ]
  },
  {
   "cell_type": "code",
   "execution_count": null,
   "id": "83f062c3-7756-415e-bf05-6c7526b9650f",
   "metadata": {},
   "outputs": [],
   "source": [
    "unique"
   ]
  }
 ],
 "metadata": {
  "kernelspec": {
   "display_name": "Python 3 (ipykernel)",
   "language": "python",
   "name": "python3"
  },
  "language_info": {
   "codemirror_mode": {
    "name": "ipython",
    "version": 3
   },
   "file_extension": ".py",
   "mimetype": "text/x-python",
   "name": "python",
   "nbconvert_exporter": "python",
   "pygments_lexer": "ipython3",
   "version": "3.11.3"
  }
 },
 "nbformat": 4,
 "nbformat_minor": 5
}
